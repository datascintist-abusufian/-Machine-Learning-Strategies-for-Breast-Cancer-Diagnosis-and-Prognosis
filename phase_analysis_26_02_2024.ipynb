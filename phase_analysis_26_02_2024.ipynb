{
  "nbformat": 4,
  "nbformat_minor": 0,
  "metadata": {
    "colab": {
      "provenance": [],
      "machine_shape": "hm",
      "gpuType": "V100"
    },
    "kernelspec": {
      "name": "python3",
      "display_name": "Python 3"
    },
    "language_info": {
      "name": "python"
    },
    "accelerator": "GPU"
  },
  "cells": [
    {
      "cell_type": "code",
      "execution_count": 1,
      "metadata": {
        "colab": {
          "base_uri": "https://localhost:8080/"
        },
        "id": "hVzNTNnN0E58",
        "outputId": "497bac9a-527e-416c-99c4-8d82d387d114"
      },
      "outputs": [
        {
          "output_type": "execute_result",
          "data": {
            "text/plain": [
              "(         id diagnosis  radius_mean  texture_mean  perimeter_mean  area_mean  \\\n",
              " 0    842302         M        17.99         10.38          122.80     1001.0   \n",
              " 1    842517         M        20.57         17.77          132.90     1326.0   \n",
              " 2  84300903         M        19.69         21.25          130.00     1203.0   \n",
              " 3  84348301         M        11.42         20.38           77.58      386.1   \n",
              " 4  84358402         M        20.29         14.34          135.10     1297.0   \n",
              " \n",
              "    smoothness_mean  compactness_mean  concavity_mean  concave_points_mean  \\\n",
              " 0          0.11840           0.27760          0.3001              0.14710   \n",
              " 1          0.08474           0.07864          0.0869              0.07017   \n",
              " 2          0.10960           0.15990          0.1974              0.12790   \n",
              " 3          0.14250           0.28390          0.2414              0.10520   \n",
              " 4          0.10030           0.13280          0.1980              0.10430   \n",
              " \n",
              "    ...  radius_worst  texture_worst  perimeter_worst  area_worst  \\\n",
              " 0  ...         25.38          17.33           184.60      2019.0   \n",
              " 1  ...         24.99          23.41           158.80      1956.0   \n",
              " 2  ...         23.57          25.53           152.50      1709.0   \n",
              " 3  ...         14.91          26.50            98.87       567.7   \n",
              " 4  ...         22.54          16.67           152.20      1575.0   \n",
              " \n",
              "    smoothness_worst  compactness_worst  concavity_worst  concave_points_worst  \\\n",
              " 0            0.1622             0.6656           0.7119                0.2654   \n",
              " 1            0.1238             0.1866           0.2416                0.1860   \n",
              " 2            0.1444             0.4245           0.4504                0.2430   \n",
              " 3            0.2098             0.8663           0.6869                0.2575   \n",
              " 4            0.1374             0.2050           0.4000                0.1625   \n",
              " \n",
              "    symmetry_worst  fractal_dimension_worst  \n",
              " 0          0.4601                  0.11890  \n",
              " 1          0.2750                  0.08902  \n",
              " 2          0.3613                  0.08758  \n",
              " 3          0.6638                  0.17300  \n",
              " 4          0.2364                  0.07678  \n",
              " \n",
              " [5 rows x 32 columns],\n",
              "    Age                                              Race   \\\n",
              " 0   43  Other (American Indian/AK Native, Asian/Pacifi...   \n",
              " 1   47  Other (American Indian/AK Native, Asian/Pacifi...   \n",
              " 2   67                                              White   \n",
              " 3   46                                              White   \n",
              " 4   63                                              White   \n",
              " \n",
              "                    Marital Status  Unnamed: 3 T Stage  N Stage 6th Stage  \\\n",
              " 0  Married (including common law)         NaN       T2      N3      IIIC   \n",
              " 1  Married (including common law)         NaN       T2      N2      IIIA   \n",
              " 2  Married (including common law)         NaN       T2      N1       IIB   \n",
              " 3                        Divorced         NaN       T1      N1       IIA   \n",
              " 4  Married (including common law)         NaN       T2      N2      IIIA   \n",
              " \n",
              "                                  Grade   A Stage  Tumor Size Estrogen Status  \\\n",
              " 0  Moderately differentiated; Grade II  Regional          40        Positive   \n",
              " 1  Moderately differentiated; Grade II  Regional          45        Positive   \n",
              " 2     Poorly differentiated; Grade III  Regional          25        Positive   \n",
              " 3  Moderately differentiated; Grade II  Regional          19        Positive   \n",
              " 4  Moderately differentiated; Grade II  Regional          35        Positive   \n",
              " \n",
              "   Progesterone Status  Regional Node Examined  Reginol Node Positive  \\\n",
              " 0            Positive                      19                     11   \n",
              " 1            Positive                      25                      9   \n",
              " 2            Positive                       4                      1   \n",
              " 3            Positive                      26                      1   \n",
              " 4            Positive                      21                      5   \n",
              " \n",
              "    Survival Months Status  \n",
              " 0                1  Alive  \n",
              " 1                2  Alive  \n",
              " 2                2   Dead  \n",
              " 3                2   Dead  \n",
              " 4                3   Dead  )"
            ]
          },
          "metadata": {},
          "execution_count": 1
        }
      ],
      "source": [
        "import pandas as pd\n",
        "\n",
        "# Assuming the datasets are loaded into variables named cancer_data_1 and cancer_data_2\n",
        "# Let's first load the datasets. Replace the file paths with the correct paths where the datasets are stored.\n",
        "cancer_data_1_path = '/content/cancer_data_1.csv'\n",
        "cancer_data_2_path = '/content/cancer_data_2.csv'\n",
        "\n",
        "# Load the datasets\n",
        "cancer_data_1 = pd.read_csv(cancer_data_1_path)\n",
        "cancer_data_2 = pd.read_csv(cancer_data_2_path)\n",
        "\n",
        "# Display the first few rows of each dataset to understand their structure\n",
        "cancer_data_1.head(), cancer_data_2.head()\n"
      ]
    },
    {
      "cell_type": "markdown",
      "source": [
        "# Preliminary Data Exploration"
      ],
      "metadata": {
        "id": "Q2BEHOa2LG-B"
      }
    },
    {
      "cell_type": "code",
      "source": [
        "# Check for missing values\n",
        "print(cancer_data_1.isnull().sum())\n",
        "print(cancer_data_2.isnull().sum())\n",
        "\n",
        "# Basic statistical analysis\n",
        "print(cancer_data_1.describe())\n",
        "print(cancer_data_2.describe())\n"
      ],
      "metadata": {
        "colab": {
          "base_uri": "https://localhost:8080/"
        },
        "id": "82yiUONWKorj",
        "outputId": "318efa6f-24db-4a57-b7f9-6b9e500459dc"
      },
      "execution_count": 2,
      "outputs": [
        {
          "output_type": "stream",
          "name": "stdout",
          "text": [
            "id                         0\n",
            "diagnosis                  0\n",
            "radius_mean                0\n",
            "texture_mean               0\n",
            "perimeter_mean             0\n",
            "area_mean                  0\n",
            "smoothness_mean            0\n",
            "compactness_mean           0\n",
            "concavity_mean             0\n",
            "concave_points_mean        0\n",
            "symmetry_mean              0\n",
            "fractal_dimension_mean     0\n",
            "radius_se                  0\n",
            "texture_se                 0\n",
            "perimeter_se               0\n",
            "area_se                    0\n",
            "smoothness_se              0\n",
            "compactness_se             0\n",
            "concavity_se               0\n",
            "concave_points_se          0\n",
            "symmetry_se                0\n",
            "fractal_dimension_se       0\n",
            "radius_worst               0\n",
            "texture_worst              0\n",
            "perimeter_worst            0\n",
            "area_worst                 0\n",
            "smoothness_worst           0\n",
            "compactness_worst          0\n",
            "concavity_worst            0\n",
            "concave_points_worst       0\n",
            "symmetry_worst             0\n",
            "fractal_dimension_worst    0\n",
            "dtype: int64\n",
            "Age                          0\n",
            "Race                         0\n",
            "Marital Status               0\n",
            "Unnamed: 3                4024\n",
            "T Stage                      0\n",
            "N Stage                      0\n",
            "6th Stage                    0\n",
            "Grade                        0\n",
            "A Stage                      0\n",
            "Tumor Size                   0\n",
            "Estrogen Status              0\n",
            "Progesterone Status          0\n",
            "Regional Node Examined       0\n",
            "Reginol Node Positive        0\n",
            "Survival Months              0\n",
            "Status                       0\n",
            "dtype: int64\n",
            "                 id  radius_mean  texture_mean  perimeter_mean    area_mean  \\\n",
            "count  5.690000e+02   569.000000    569.000000      569.000000   569.000000   \n",
            "mean   3.037183e+07    14.127292     19.289649       91.969033   654.889104   \n",
            "std    1.250206e+08     3.524049      4.301036       24.298981   351.914129   \n",
            "min    8.670000e+03     6.981000      9.710000       43.790000   143.500000   \n",
            "25%    8.692180e+05    11.700000     16.170000       75.170000   420.300000   \n",
            "50%    9.060240e+05    13.370000     18.840000       86.240000   551.100000   \n",
            "75%    8.813129e+06    15.780000     21.800000      104.100000   782.700000   \n",
            "max    9.113205e+08    28.110000     39.280000      188.500000  2501.000000   \n",
            "\n",
            "       smoothness_mean  compactness_mean  concavity_mean  concave_points_mean  \\\n",
            "count       569.000000        569.000000      569.000000           569.000000   \n",
            "mean          0.096360          0.104341        0.088799             0.048919   \n",
            "std           0.014064          0.052813        0.079720             0.038803   \n",
            "min           0.052630          0.019380        0.000000             0.000000   \n",
            "25%           0.086370          0.064920        0.029560             0.020310   \n",
            "50%           0.095870          0.092630        0.061540             0.033500   \n",
            "75%           0.105300          0.130400        0.130700             0.074000   \n",
            "max           0.163400          0.345400        0.426800             0.201200   \n",
            "\n",
            "       symmetry_mean  ...  radius_worst  texture_worst  perimeter_worst  \\\n",
            "count     569.000000  ...    569.000000     569.000000       569.000000   \n",
            "mean        0.181162  ...     16.269190      25.677223       107.261213   \n",
            "std         0.027414  ...      4.833242       6.146258        33.602542   \n",
            "min         0.106000  ...      7.930000      12.020000        50.410000   \n",
            "25%         0.161900  ...     13.010000      21.080000        84.110000   \n",
            "50%         0.179200  ...     14.970000      25.410000        97.660000   \n",
            "75%         0.195700  ...     18.790000      29.720000       125.400000   \n",
            "max         0.304000  ...     36.040000      49.540000       251.200000   \n",
            "\n",
            "        area_worst  smoothness_worst  compactness_worst  concavity_worst  \\\n",
            "count   569.000000        569.000000         569.000000       569.000000   \n",
            "mean    880.583128          0.132369           0.254265         0.272188   \n",
            "std     569.356993          0.022832           0.157336         0.208624   \n",
            "min     185.200000          0.071170           0.027290         0.000000   \n",
            "25%     515.300000          0.116600           0.147200         0.114500   \n",
            "50%     686.500000          0.131300           0.211900         0.226700   \n",
            "75%    1084.000000          0.146000           0.339100         0.382900   \n",
            "max    4254.000000          0.222600           1.058000         1.252000   \n",
            "\n",
            "       concave_points_worst  symmetry_worst  fractal_dimension_worst  \n",
            "count            569.000000      569.000000               569.000000  \n",
            "mean               0.114606        0.290076                 0.083946  \n",
            "std                0.065732        0.061867                 0.018061  \n",
            "min                0.000000        0.156500                 0.055040  \n",
            "25%                0.064930        0.250400                 0.071460  \n",
            "50%                0.099930        0.282200                 0.080040  \n",
            "75%                0.161400        0.317900                 0.092080  \n",
            "max                0.291000        0.663800                 0.207500  \n",
            "\n",
            "[8 rows x 31 columns]\n",
            "               Age  Unnamed: 3   Tumor Size  Regional Node Examined  \\\n",
            "count  4024.000000         0.0  4024.000000             4024.000000   \n",
            "mean     53.972167         NaN    30.473658               14.357107   \n",
            "std       8.963134         NaN    21.119696                8.099675   \n",
            "min      30.000000         NaN     1.000000                1.000000   \n",
            "25%      47.000000         NaN    16.000000                9.000000   \n",
            "50%      54.000000         NaN    25.000000               14.000000   \n",
            "75%      61.000000         NaN    38.000000               19.000000   \n",
            "max      69.000000         NaN   140.000000               61.000000   \n",
            "\n",
            "       Reginol Node Positive  Survival Months  \n",
            "count            4024.000000      4024.000000  \n",
            "mean                4.158052        71.297962  \n",
            "std                 5.109331        22.921430  \n",
            "min                 1.000000         1.000000  \n",
            "25%                 1.000000        56.000000  \n",
            "50%                 2.000000        73.000000  \n",
            "75%                 5.000000        90.000000  \n",
            "max                46.000000       107.000000  \n"
          ]
        }
      ]
    },
    {
      "cell_type": "code",
      "source": [
        "cancer_data_2.drop('Unnamed: 3', axis=1, inplace=True)\n"
      ],
      "metadata": {
        "id": "Gf5vyV0vXY6D"
      },
      "execution_count": 3,
      "outputs": []
    },
    {
      "cell_type": "code",
      "source": [
        "# Check for missing values\n",
        "print(cancer_data_1.isnull().sum())\n",
        "print(cancer_data_2.isnull().sum())"
      ],
      "metadata": {
        "id": "Ofq7CJLQYHgj",
        "colab": {
          "base_uri": "https://localhost:8080/"
        },
        "outputId": "67743e90-ed14-448f-d1fd-c9f83f123665"
      },
      "execution_count": 4,
      "outputs": [
        {
          "output_type": "stream",
          "name": "stdout",
          "text": [
            "id                         0\n",
            "diagnosis                  0\n",
            "radius_mean                0\n",
            "texture_mean               0\n",
            "perimeter_mean             0\n",
            "area_mean                  0\n",
            "smoothness_mean            0\n",
            "compactness_mean           0\n",
            "concavity_mean             0\n",
            "concave_points_mean        0\n",
            "symmetry_mean              0\n",
            "fractal_dimension_mean     0\n",
            "radius_se                  0\n",
            "texture_se                 0\n",
            "perimeter_se               0\n",
            "area_se                    0\n",
            "smoothness_se              0\n",
            "compactness_se             0\n",
            "concavity_se               0\n",
            "concave_points_se          0\n",
            "symmetry_se                0\n",
            "fractal_dimension_se       0\n",
            "radius_worst               0\n",
            "texture_worst              0\n",
            "perimeter_worst            0\n",
            "area_worst                 0\n",
            "smoothness_worst           0\n",
            "compactness_worst          0\n",
            "concavity_worst            0\n",
            "concave_points_worst       0\n",
            "symmetry_worst             0\n",
            "fractal_dimension_worst    0\n",
            "dtype: int64\n",
            "Age                       0\n",
            "Race                      0\n",
            "Marital Status            0\n",
            "T Stage                   0\n",
            "N Stage                   0\n",
            "6th Stage                 0\n",
            "Grade                     0\n",
            "A Stage                   0\n",
            "Tumor Size                0\n",
            "Estrogen Status           0\n",
            "Progesterone Status       0\n",
            "Regional Node Examined    0\n",
            "Reginol Node Positive     0\n",
            "Survival Months           0\n",
            "Status                    0\n",
            "dtype: int64\n"
          ]
        }
      ]
    },
    {
      "cell_type": "code",
      "source": [
        "# Calculate the range of each numerical column in the dataset\n",
        "range_df = cancer_data_1.describe().loc[['min', 'max']].transpose()\n",
        "range_df['range'] = range_df['max'] - range_df['min']\n",
        "print(range_df)\n"
      ],
      "metadata": {
        "id": "e19Z9ABuafcb",
        "colab": {
          "base_uri": "https://localhost:8080/"
        },
        "outputId": "aa43fd8f-9f27-4923-b203-1931cc63e31a"
      },
      "execution_count": 5,
      "outputs": [
        {
          "output_type": "stream",
          "name": "stdout",
          "text": [
            "                                 min           max         range\n",
            "id                       8670.000000  9.113205e+08  9.113118e+08\n",
            "radius_mean                 6.981000  2.811000e+01  2.112900e+01\n",
            "texture_mean                9.710000  3.928000e+01  2.957000e+01\n",
            "perimeter_mean             43.790000  1.885000e+02  1.447100e+02\n",
            "area_mean                 143.500000  2.501000e+03  2.357500e+03\n",
            "smoothness_mean             0.052630  1.634000e-01  1.107700e-01\n",
            "compactness_mean            0.019380  3.454000e-01  3.260200e-01\n",
            "concavity_mean              0.000000  4.268000e-01  4.268000e-01\n",
            "concave_points_mean         0.000000  2.012000e-01  2.012000e-01\n",
            "symmetry_mean               0.106000  3.040000e-01  1.980000e-01\n",
            "fractal_dimension_mean      0.049960  9.744000e-02  4.748000e-02\n",
            "radius_se                   0.111500  2.873000e+00  2.761500e+00\n",
            "texture_se                  0.360200  4.885000e+00  4.524800e+00\n",
            "perimeter_se                0.757000  2.198000e+01  2.122300e+01\n",
            "area_se                     6.802000  5.422000e+02  5.353980e+02\n",
            "smoothness_se               0.001713  3.113000e-02  2.941700e-02\n",
            "compactness_se              0.002252  1.354000e-01  1.331480e-01\n",
            "concavity_se                0.000000  3.960000e-01  3.960000e-01\n",
            "concave_points_se           0.000000  5.279000e-02  5.279000e-02\n",
            "symmetry_se                 0.007882  7.895000e-02  7.106800e-02\n",
            "fractal_dimension_se        0.000895  2.984000e-02  2.894520e-02\n",
            "radius_worst                7.930000  3.604000e+01  2.811000e+01\n",
            "texture_worst              12.020000  4.954000e+01  3.752000e+01\n",
            "perimeter_worst            50.410000  2.512000e+02  2.007900e+02\n",
            "area_worst                185.200000  4.254000e+03  4.068800e+03\n",
            "smoothness_worst            0.071170  2.226000e-01  1.514300e-01\n",
            "compactness_worst           0.027290  1.058000e+00  1.030710e+00\n",
            "concavity_worst             0.000000  1.252000e+00  1.252000e+00\n",
            "concave_points_worst        0.000000  2.910000e-01  2.910000e-01\n",
            "symmetry_worst              0.156500  6.638000e-01  5.073000e-01\n",
            "fractal_dimension_worst     0.055040  2.075000e-01  1.524600e-01\n"
          ]
        }
      ]
    },
    {
      "cell_type": "code",
      "source": [
        "num_rows = cancer_data_1.shape[0]\n",
        "print(f\"Number of rows in Dataset 1: {num_rows}\")\n"
      ],
      "metadata": {
        "id": "aBxywcRAaypa",
        "colab": {
          "base_uri": "https://localhost:8080/"
        },
        "outputId": "130667fd-a134-4f68-cf58-73f373338a37"
      },
      "execution_count": 6,
      "outputs": [
        {
          "output_type": "stream",
          "name": "stdout",
          "text": [
            "Number of rows in Dataset 1: 569\n"
          ]
        }
      ]
    },
    {
      "cell_type": "code",
      "source": [
        "num_rows = cancer_data_2.shape[0]\n",
        "print(f\"Number of rows in Dataset 1: {num_rows}\")"
      ],
      "metadata": {
        "id": "HxtVcsyNcCOu",
        "colab": {
          "base_uri": "https://localhost:8080/"
        },
        "outputId": "7a7d27b4-a63d-46b7-cd80-570c60140695"
      },
      "execution_count": 7,
      "outputs": [
        {
          "output_type": "stream",
          "name": "stdout",
          "text": [
            "Number of rows in Dataset 1: 4024\n"
          ]
        }
      ]
    },
    {
      "cell_type": "code",
      "source": [
        "cancer_data_2.columns"
      ],
      "metadata": {
        "id": "wHqGO_hMcWDa",
        "colab": {
          "base_uri": "https://localhost:8080/"
        },
        "outputId": "2b52af6f-6d98-468d-ad54-4d856074a69d"
      },
      "execution_count": 8,
      "outputs": [
        {
          "output_type": "execute_result",
          "data": {
            "text/plain": [
              "Index(['Age', 'Race ', 'Marital Status', 'T Stage ', 'N Stage', '6th Stage',\n",
              "       'Grade', 'A Stage', 'Tumor Size', 'Estrogen Status',\n",
              "       'Progesterone Status', 'Regional Node Examined',\n",
              "       'Reginol Node Positive', 'Survival Months', 'Status'],\n",
              "      dtype='object')"
            ]
          },
          "metadata": {},
          "execution_count": 8
        }
      ]
    },
    {
      "cell_type": "code",
      "source": [
        "cancer_data_1.columns"
      ],
      "metadata": {
        "id": "dFfBRtMigHCP",
        "colab": {
          "base_uri": "https://localhost:8080/"
        },
        "outputId": "e88f25b3-5f28-4fde-9ff8-e4215902a916"
      },
      "execution_count": 9,
      "outputs": [
        {
          "output_type": "execute_result",
          "data": {
            "text/plain": [
              "Index(['id', 'diagnosis', 'radius_mean', 'texture_mean', 'perimeter_mean',\n",
              "       'area_mean', 'smoothness_mean', 'compactness_mean', 'concavity_mean',\n",
              "       'concave_points_mean', 'symmetry_mean', 'fractal_dimension_mean',\n",
              "       'radius_se', 'texture_se', 'perimeter_se', 'area_se', 'smoothness_se',\n",
              "       'compactness_se', 'concavity_se', 'concave_points_se', 'symmetry_se',\n",
              "       'fractal_dimension_se', 'radius_worst', 'texture_worst',\n",
              "       'perimeter_worst', 'area_worst', 'smoothness_worst',\n",
              "       'compactness_worst', 'concavity_worst', 'concave_points_worst',\n",
              "       'symmetry_worst', 'fractal_dimension_worst'],\n",
              "      dtype='object')"
            ]
          },
          "metadata": {},
          "execution_count": 9
        }
      ]
    },
    {
      "cell_type": "code",
      "source": [
        "# Checking for NaN values in each column of cancer_data_1\n",
        "nan_counts = cancer_data_1.isnull().sum()\n",
        "\n",
        "# Display the count of NaN values for each column\n",
        "print(nan_counts)\n"
      ],
      "metadata": {
        "id": "nahHccwt5GmP",
        "colab": {
          "base_uri": "https://localhost:8080/"
        },
        "outputId": "a80560cd-edef-4cf6-e67b-31debbb42280"
      },
      "execution_count": 10,
      "outputs": [
        {
          "output_type": "stream",
          "name": "stdout",
          "text": [
            "id                         0\n",
            "diagnosis                  0\n",
            "radius_mean                0\n",
            "texture_mean               0\n",
            "perimeter_mean             0\n",
            "area_mean                  0\n",
            "smoothness_mean            0\n",
            "compactness_mean           0\n",
            "concavity_mean             0\n",
            "concave_points_mean        0\n",
            "symmetry_mean              0\n",
            "fractal_dimension_mean     0\n",
            "radius_se                  0\n",
            "texture_se                 0\n",
            "perimeter_se               0\n",
            "area_se                    0\n",
            "smoothness_se              0\n",
            "compactness_se             0\n",
            "concavity_se               0\n",
            "concave_points_se          0\n",
            "symmetry_se                0\n",
            "fractal_dimension_se       0\n",
            "radius_worst               0\n",
            "texture_worst              0\n",
            "perimeter_worst            0\n",
            "area_worst                 0\n",
            "smoothness_worst           0\n",
            "compactness_worst          0\n",
            "concavity_worst            0\n",
            "concave_points_worst       0\n",
            "symmetry_worst             0\n",
            "fractal_dimension_worst    0\n",
            "dtype: int64\n"
          ]
        }
      ]
    },
    {
      "cell_type": "markdown",
      "source": [
        "#Identify Potential Biomarkers or Features:"
      ],
      "metadata": {
        "id": "G-BFyjlPLfAT"
      }
    },
    {
      "cell_type": "markdown",
      "source": [
        "# Discovery Phase Interms of Clinical Validation"
      ],
      "metadata": {
        "id": "qNqqo3DuH8Wc"
      }
    },
    {
      "cell_type": "code",
      "source": [
        "import pandas as pd\n",
        "from scipy import stats\n",
        "\n",
        "# Paths to the datasets\n",
        "cancer_data_1_path = '/content/cancer_data_1.csv'\n",
        "cancer_data_2_path = '/content/cancer_data_2.csv'\n",
        "\n",
        "# Load your datasets\n",
        "cancer_data_1 = pd.read_csv(cancer_data_1_path)\n",
        "cancer_data_2 = pd.read_csv(cancer_data_2_path)\n",
        "\n",
        "# For cancer_data_1, we will calculate descriptive statistics for all continuous variables\n",
        "# and perform t-tests for each of them grouped by 'diagnosis'\n",
        "continuous_columns = cancer_data_1.select_dtypes(include='number').columns.drop('id')\n",
        "grouped_data_1 = cancer_data_1.groupby('diagnosis')\n",
        "\n",
        "# Calculating descriptive statistics\n",
        "descriptive_stats_1 = grouped_data_1[continuous_columns].agg(['mean', 'std'])\n",
        "\n",
        "# Initializing a dictionary to hold t-test results\n",
        "t_test_results_1 = {}\n",
        "\n",
        "# Conducting a simplified Welch's t-test for 'radius_mean'\n",
        "simple_test_result = stats.ttest_ind(\n",
        "    cancer_data_1[cancer_data_1['diagnosis'] == 'B']['radius_mean'],  # Benign group\n",
        "    cancer_data_1[cancer_data_1['diagnosis'] == 'M']['radius_mean'],  # Malignant group\n",
        "    equal_var=False,  # Indicates Welch's t-test\n",
        "    nan_policy='omit'  # Omit NaN values\n",
        ")\n",
        "\n",
        "\n",
        "# For cancer_data_2, we will calculate frequency tables for all categorical variables\n",
        "categorical_columns = cancer_data_2.select_dtypes(include='object').columns\n",
        "frequency_tables_2 = {}\n",
        "\n",
        "# Calculating frequency tables\n",
        "for col in categorical_columns:\n",
        "    frequency_tables_2[col] = cancer_data_2[col].value_counts()\n",
        "\n",
        "# Example Chi-square test between 'Marital Status' and another categorical variable 'Status'\n",
        "# Assuming 'Status' could be a binary variable indicating presence or absence of cancer\n",
        "chi2_contingency_table = pd.crosstab(cancer_data_2['Marital Status'], cancer_data_2['Status'])\n",
        "chi2_test_stat, chi2_test_p, chi2_test_dof, _ = stats.chi2_contingency(chi2_contingency_table)\n",
        "\n",
        "\n",
        "# Correcting the variable names for cancer_data_2\n",
        "# Make sure 'Grade' is a categorical variable and 'Tumor Size' is a continuous variable in cancer_data_2\n",
        "anova_data_corrected = cancer_data_2[['Grade', 'Tumor Size']].dropna()  # Replace 'Tumor Size' with the actual column name\n",
        "anova_groups_corrected = anova_data_corrected.groupby('Grade')['Tumor Size'].apply(list)\n",
        "anova_stat_corrected, anova_p_corrected = stats.f_oneway(*anova_groups_corrected)\n",
        "\n",
        "\n",
        "# Output the results\n",
        "print(\"Descriptive Statistics for cancer_data_1:\")\n",
        "print(descriptive_stats_1)\n",
        "\n",
        "\n",
        "print(\"\\nFrequency Tables for cancer_data_2:\")\n",
        "for var, table in frequency_tables_2.items():\n",
        "    print(f\"{var}:\")\n",
        "    print(table)\n",
        "    print()\n",
        "\n",
        "print(f\"Chi-Square Test Statistic: {chi2_test_stat}, P-value: {chi2_test_p}\")\n",
        "\n",
        "print(f\"Corrected ANOVA Statistic: {anova_stat_corrected}, P-value: {anova_p_corrected}\")\n",
        "\n",
        "print(f\"Welche test - radius_mean: statistic={simple_test_result.statistic}, pvalue={simple_test_result.pvalue}\")"
      ],
      "metadata": {
        "id": "uNTEO8WL3_2V",
        "colab": {
          "base_uri": "https://localhost:8080/"
        },
        "outputId": "a5e114b4-5b96-443f-951b-60a557c34b6e"
      },
      "execution_count": 11,
      "outputs": [
        {
          "output_type": "stream",
          "name": "stdout",
          "text": [
            "Descriptive Statistics for cancer_data_1:\n",
            "          radius_mean           texture_mean           perimeter_mean  \\\n",
            "                 mean       std         mean       std           mean   \n",
            "diagnosis                                                               \n",
            "B           12.146524  1.780512    17.914762  3.995125      78.075406   \n",
            "M           17.462830  3.203971    21.604906  3.779470     115.365377   \n",
            "\n",
            "                       area_mean             smoothness_mean            ...  \\\n",
            "                 std        mean         std            mean       std  ...   \n",
            "diagnosis                                                               ...   \n",
            "B          11.807438  462.790196  134.287118        0.092478  0.013446  ...   \n",
            "M          21.854653  978.376415  367.937978        0.102898  0.012608  ...   \n",
            "\n",
            "          compactness_worst           concavity_worst            \\\n",
            "                       mean       std            mean       std   \n",
            "diagnosis                                                         \n",
            "B                  0.182673  0.092180        0.166238  0.140368   \n",
            "M                  0.374824  0.170372        0.450606  0.181507   \n",
            "\n",
            "          concave_points_worst           symmetry_worst            \\\n",
            "                          mean       std           mean       std   \n",
            "diagnosis                                                           \n",
            "B                     0.074444  0.035797       0.270246  0.041745   \n",
            "M                     0.182237  0.046308       0.323468  0.074685   \n",
            "\n",
            "          fractal_dimension_worst            \n",
            "                             mean       std  \n",
            "diagnosis                                    \n",
            "B                        0.079442  0.013804  \n",
            "M                        0.091530  0.021553  \n",
            "\n",
            "[2 rows x 60 columns]\n",
            "\n",
            "Frequency Tables for cancer_data_2:\n",
            "Race :\n",
            "White                                                        3413\n",
            "Other (American Indian/AK Native, Asian/Pacific Islander)     320\n",
            "Black                                                         291\n",
            "Name: Race , dtype: int64\n",
            "\n",
            "Marital Status:\n",
            "Married (including common law)    2643\n",
            "Single (never married)             615\n",
            "Divorced                           486\n",
            "Widowed                            235\n",
            "Separated                           45\n",
            "Name: Marital Status, dtype: int64\n",
            "\n",
            "T Stage :\n",
            "T2    1786\n",
            "T1    1603\n",
            "T3     533\n",
            "T4     102\n",
            "Name: T Stage , dtype: int64\n",
            "\n",
            "N Stage:\n",
            "N1    2732\n",
            "N2     820\n",
            "N3     472\n",
            "Name: N Stage, dtype: int64\n",
            "\n",
            "6th Stage:\n",
            "IIA     1305\n",
            "IIB     1130\n",
            "IIIA    1050\n",
            "IIIC     472\n",
            "IIIB      67\n",
            "Name: 6th Stage, dtype: int64\n",
            "\n",
            "Grade:\n",
            "Moderately differentiated; Grade II       2351\n",
            "Poorly differentiated; Grade III          1111\n",
            "Well differentiated; Grade I               543\n",
            "Undifferentiated; anaplastic; Grade IV      19\n",
            "Name: Grade, dtype: int64\n",
            "\n",
            "A Stage:\n",
            "Regional    3932\n",
            "Distant       92\n",
            "Name: A Stage, dtype: int64\n",
            "\n",
            "Estrogen Status:\n",
            "Positive    3755\n",
            "Negative     269\n",
            "Name: Estrogen Status, dtype: int64\n",
            "\n",
            "Progesterone Status:\n",
            "Positive    3326\n",
            "Negative     698\n",
            "Name: Progesterone Status, dtype: int64\n",
            "\n",
            "Status:\n",
            "Alive    3408\n",
            "Dead      616\n",
            "Name: Status, dtype: int64\n",
            "\n",
            "Chi-Square Test Statistic: 28.263812502260457, P-value: 1.1027694804532703e-05\n",
            "Corrected ANOVA Statistic: 20.083423704904487, P-value: 6.452048440459264e-13\n",
            "Welche test - radius_mean: statistic=-22.208797758464527, pvalue=1.6844591259582747e-64\n"
          ]
        }
      ]
    },
    {
      "cell_type": "markdown",
      "source": [
        "The analyses performed on `cancer_data_1` and `cancer_data_2` provide insightful findings that are pivotal for the clinical validation phase of breast cancer research, specifically focusing on Triple-Negative Breast Cancer (TNBC). Here’s a detailed interpretation incorporating specific values to clarify their clinical relevance:\n",
        "\n",
        "### Descriptive Statistics for `cancer_data_1`:\n",
        "\n",
        "- **Tumor Characteristics**: The mean `radius_mean` for malignant (M) tumors is 17.46 mm with a standard deviation (std) of 3.20, compared to benign (B) tumors with a mean of 12.15 mm and std of 1.78. This indicates that malignant tumors are larger on average than benign tumors. Similar patterns are observed in other characteristics such as `texture_mean` (M: mean = 21.60, std = 3.78; B: mean = 17.91, std = 3.99) and `area_mean` (M: mean = 978.38 mm², std = 367.94; B: mean = 462.79 mm², std = 134.29), suggesting that malignant tumors tend to have more irregular textures and larger areas.\n",
        "\n",
        "### Welch's T-test - `radius_mean`:\n",
        "\n",
        "- **Statistical Significance**: The Welch's t-test for `radius_mean` yielded a statistic of -22.21 and a p-value of \\(1.68 \\times 10^{-64}\\), demonstrating a highly significant difference in the average radius between benign and malignant tumors. This underscores the radius as a critical factor in distinguishing tumor malignancy.\n",
        "\n",
        "### Frequency Tables for `cancer_data_2`:\n",
        "\n",
        "- **Clinical and Demographic Distribution**: The frequency table shows that most patients are classified as White (3413), with the majority being married (2643). In clinical variables, the most common T Stage is T2 (1786), and the majority of patients are in the N1 stage (2732), indicating a prevalence of early to intermediate stages of tumor node involvement.\n",
        "\n",
        "### Chi-Square Test:\n",
        "\n",
        "- **Marital Status and Survival**: The Chi-Square test between `Marital Status` and `Status` (Alive or Dead) produced a statistic of 28.26 and a p-value of \\(1.10 \\times 10^{-5}\\), indicating a significant association. This suggests that marital status might influence patient survival outcomes, a factor that could be considered in patient support and treatment planning.\n",
        "\n",
        "### Corrected ANOVA Statistic:\n",
        "\n",
        "- **Variation Across Cancer Grades**: The ANOVA test on a continuous variable (e.g., tumor size) across different cancer grades yielded a statistic of 20.08 and a p-value of \\(6.45 \\times 10^{-13}\\), highlighting significant differences in tumor size among cancer grades. This supports the premise that tumor characteristics vary with cancer severity, which is crucial for prognosis and treatment strategies.\n",
        "\n",
        "### Clinical Validation Implications:\n",
        "\n",
        "- **Tumor Characteristics and Diagnosis**: The significant difference in `radius_mean` between benign and malignant tumors, with larger sizes associated with malignancy, serves as a quantitative marker for diagnosis.\n",
        "- **Social Determinants and Survival**: The association between marital status and survival emphasizes the need to consider social determinants in patient care.\n",
        "- **Cancer Grades and Prognosis**: The variance in tumor size across cancer grades informs about the disease's progression, aiding in prognostic assessments.\n",
        "\n",
        "The discovery phase of this analysis not only validates known clinical hypotheses, such as the significance of tumor size and texture in cancer diagnosis but also uncovers potential areas for further research, like the impact of social factors on survival. These findings lay a solid groundwork for developing advanced machine learning models that could enhance early detection and prognosis of TNBC, integrating critical biomarkers and patient-specific factors for personalized medicine approaches."
      ],
      "metadata": {
        "id": "ONWJDGbsI7nR"
      }
    },
    {
      "cell_type": "code",
      "source": [
        "import pandas as pd\n",
        "from scipy import stats\n",
        "\n",
        "# Assuming cancer_data_1 is already loaded and has the required structure\n",
        "# Split your data into two sets for validation\n",
        "validation_set_1 = cancer_data_1.sample(frac=0.5, random_state=1)\n",
        "validation_set_2 = cancer_data_1.drop(validation_set_1.index)\n",
        "\n",
        "# Define function to calculate descriptive statistics and perform t-tests\n",
        "def validate_phase(data):\n",
        "    descriptive_stats = data.describe()\n",
        "    continuous_columns = data.select_dtypes(include='number').columns\n",
        "    t_test_results = {}\n",
        "    for column in continuous_columns:\n",
        "        stat, pval = stats.ttest_ind(\n",
        "            data[data['diagnosis'] == 'B'][column],\n",
        "            data[data['diagnosis'] == 'M'][column],\n",
        "            equal_var=False\n",
        "        )\n",
        "        t_test_results[column] = (stat, pval)\n",
        "    return descriptive_stats, t_test_results\n",
        "\n",
        "# Run validation for phase 1\n",
        "descriptive_stats_1, t_test_results_1 = validate_phase(validation_set_1)\n",
        "\n",
        "# Run validation for phase 2\n",
        "descriptive_stats_2, t_test_results_2 = validate_phase(validation_set_2)\n",
        "\n",
        "# Output the results for both phases\n",
        "print(\"Validation Phase 1:\")\n",
        "print(descriptive_stats_1)\n",
        "print(t_test_results_1)\n",
        "\n",
        "print(\"\\nValidation Phase 2:\")\n",
        "print(descriptive_stats_2)\n",
        "print(t_test_results_2)\n"
      ],
      "metadata": {
        "id": "p-pCQJk_eMuz",
        "colab": {
          "base_uri": "https://localhost:8080/"
        },
        "outputId": "0dea61a8-b712-47f4-e6a9-800921e89cef"
      },
      "execution_count": 12,
      "outputs": [
        {
          "output_type": "stream",
          "name": "stdout",
          "text": [
            "Validation Phase 1:\n",
            "                 id  radius_mean  texture_mean  perimeter_mean    area_mean  \\\n",
            "count  2.840000e+02   284.000000    284.000000      284.000000   284.000000   \n",
            "mean   2.406793e+07    14.062525     19.128944       91.510880   644.956690   \n",
            "std    1.083839e+08     3.331549      3.878923       22.908945   325.828154   \n",
            "min    8.670000e+03     6.981000     10.380000       43.790000   143.500000   \n",
            "25%    8.651348e+05    11.787500     16.390000       75.960000   429.175000   \n",
            "50%    9.055385e+05    13.455000     18.835000       86.965000   557.400000   \n",
            "75%    8.712290e+06    15.540000     21.487500      102.825000   751.325000   \n",
            "max    9.113205e+08    27.220000     33.810000      182.100000  2250.000000   \n",
            "\n",
            "       smoothness_mean  compactness_mean  concavity_mean  concave_points_mean  \\\n",
            "count       284.000000        284.000000      284.000000           284.000000   \n",
            "mean          0.095928          0.103674        0.088155             0.047992   \n",
            "std           0.014865          0.054574        0.078062             0.037276   \n",
            "min           0.052630          0.023440        0.000000             0.000000   \n",
            "25%           0.085110          0.063028        0.031080             0.020975   \n",
            "50%           0.094310          0.092230        0.062650             0.033870   \n",
            "75%           0.104900          0.128525        0.119500             0.070288   \n",
            "max           0.163400          0.345400        0.426800             0.201200   \n",
            "\n",
            "       symmetry_mean  ...  radius_worst  texture_worst  perimeter_worst  \\\n",
            "count     284.000000  ...    284.000000     284.000000       284.000000   \n",
            "mean        0.181537  ...     16.125986      25.601197       106.400423   \n",
            "std         0.027060  ...      4.505000       5.560915        31.224714   \n",
            "min         0.120300  ...      7.930000      14.200000        50.410000   \n",
            "25%         0.161800  ...     13.195000      21.545000        85.560000   \n",
            "50%         0.179200  ...     15.010000      25.680000        98.180000   \n",
            "75%         0.196600  ...     17.792500      29.170000       120.825000   \n",
            "max         0.290600  ...     33.120000      42.790000       220.800000   \n",
            "\n",
            "        area_worst  smoothness_worst  compactness_worst  concavity_worst  \\\n",
            "count   284.000000        284.000000         284.000000       284.000000   \n",
            "mean    857.147183          0.131865           0.253264         0.275408   \n",
            "std     521.526605          0.023149           0.159793         0.214123   \n",
            "min     185.200000          0.071170           0.027290         0.000000   \n",
            "25%     529.275000          0.114625           0.150750         0.129425   \n",
            "50%     693.300000          0.131000           0.209250         0.227300   \n",
            "75%     979.800000          0.146025           0.321925         0.375275   \n",
            "max    3216.000000          0.218400           1.058000         1.252000   \n",
            "\n",
            "       concave_points_worst  symmetry_worst  fractal_dimension_worst  \n",
            "count            284.000000      284.000000               284.000000  \n",
            "mean               0.114238        0.291918                 0.083903  \n",
            "std                0.063613        0.065600                 0.019049  \n",
            "min                0.000000        0.156500                 0.055040  \n",
            "25%                0.065253        0.252100                 0.071210  \n",
            "50%                0.105500        0.283300                 0.079590  \n",
            "75%                0.156325        0.316825                 0.091922  \n",
            "max                0.286700        0.663800                 0.207500  \n",
            "\n",
            "[8 rows x 31 columns]\n",
            "{'id': (0.08405943072320535, 0.9330745458197331), 'radius_mean': (-14.33322002145029, 2.483432720746837e-29), 'texture_mean': (-7.068333810207619, 1.9462710609301824e-11), 'perimeter_mean': (-15.019683093258218, 5.0823764160227434e-31), 'area_mean': (-13.144736921504913, 5.488309744974778e-25), 'smoothness_mean': (-6.604340146011216, 3.033919686226699e-10), 'compactness_mean': (-9.445285212455566, 1.071853667342042e-16), 'concavity_mean': (-13.53288032203438, 5.2773665720403586e-27), 'concave_points_mean': (-16.774154936389554, 2.9782397538077145e-34), 'symmetry_mean': (-5.478876253835409, 1.522581398701915e-07), 'fractal_dimension_mean': (-0.485086975778503, 0.6282504699808928), 'radius_se': (-10.19263043260784, 7.64453383949107e-18), 'texture_se': (-0.26224092707278657, 0.7933610141381144), 'perimeter_se': (-9.813499265466108, 6.020584959127906e-17), 'area_se': (-10.446777029744663, 5.316014561482767e-18), 'smoothness_se': (-0.31355090074785497, 0.7542257431706334), 'compactness_se': (-4.658308548766459, 6.364852646307972e-06), 'concavity_se': (-5.247327119636342, 3.293720028990869e-07), 'concave_points_se': (-7.728270168879106, 5.44736341371604e-13), 'symmetry_se': (-0.9398486113890043, 0.3488913734003445), 'fractal_dimension_se': (-2.7162123518981125, 0.007194264413419499), 'radius_worst': (-15.906044109713552, 3.167022967225641e-32), 'texture_worst': (-7.946106743389734, 9.358644339228562e-14), 'perimeter_worst': (-16.556075494338636, 7.371406571491064e-34), 'area_worst': (-13.582082854352155, 2.0183664554007398e-25), 'smoothness_worst': (-7.046511637053486, 3.330372628323194e-11), 'compactness_worst': (-8.505422876834153, 2.788775012773838e-14), 'concavity_worst': (-11.609738254746677, 2.178288077943092e-23), 'concave_points_worst': (-17.829440448805244, 5.935728834857422e-41), 'symmetry_worst': (-5.2928863858211965, 4.973781825928691e-07), 'fractal_dimension_worst': (-4.48803148017038, 1.4984876776294526e-05)}\n",
            "\n",
            "Validation Phase 2:\n",
            "                 id  radius_mean  texture_mean  perimeter_mean    area_mean  \\\n",
            "count  2.850000e+02   285.000000    285.000000      285.000000   285.000000   \n",
            "mean   3.665361e+07    14.191832     19.449789       92.425579   664.786667   \n",
            "std    1.395537e+08     3.710705      4.685423       25.641570   376.430578   \n",
            "min    8.913000e+03     7.729000      9.710000       47.980000   178.800000   \n",
            "25%    8.735930e+05    11.620000     15.920000       74.330000   409.000000   \n",
            "50%    9.092200e+05    13.150000     18.870000       85.630000   536.900000   \n",
            "75%    8.911800e+06    16.300000     22.020000      105.800000   819.800000   \n",
            "max    9.112962e+08    28.110000     39.280000      188.500000  2501.000000   \n",
            "\n",
            "       smoothness_mean  compactness_mean  concavity_mean  concave_points_mean  \\\n",
            "count       285.000000        285.000000      285.000000           285.000000   \n",
            "mean          0.096791          0.105005        0.089442             0.049843   \n",
            "std           0.013230          0.051085        0.081471             0.040312   \n",
            "min           0.062510          0.019380        0.000000             0.000000   \n",
            "25%           0.087520          0.066300        0.026810             0.019630   \n",
            "50%           0.096840          0.095460        0.059290             0.032790   \n",
            "75%           0.105400          0.131700        0.136200             0.075930   \n",
            "max           0.139800          0.283200        0.426400             0.191300   \n",
            "\n",
            "       symmetry_mean  ...  radius_worst  texture_worst  perimeter_worst  \\\n",
            "count     285.000000  ...    285.000000     285.000000       285.000000   \n",
            "mean        0.180788  ...     16.411891      25.752982       108.118982   \n",
            "std         0.027806  ...      5.143534       6.687790        35.850142   \n",
            "min         0.106000  ...      9.077000      12.020000        57.170000   \n",
            "25%         0.162000  ...     12.810000      20.830000        82.140000   \n",
            "50%         0.179300  ...     14.770000      25.050000        97.110000   \n",
            "75%         0.195400  ...     19.770000      30.410000       128.800000   \n",
            "max         0.304000  ...     36.040000      49.540000       251.200000   \n",
            "\n",
            "        area_worst  smoothness_worst  compactness_worst  concavity_worst  \\\n",
            "count   285.000000        285.000000         285.000000       285.000000   \n",
            "mean    903.936842          0.132870           0.255263         0.268980   \n",
            "std     613.356276          0.022542           0.155124         0.203323   \n",
            "min     248.000000          0.081250           0.034320         0.000000   \n",
            "25%     495.200000          0.117800           0.139800         0.104700   \n",
            "50%     677.300000          0.131600           0.218600         0.226700   \n",
            "75%    1210.000000          0.146000           0.345800         0.386500   \n",
            "max    4254.000000          0.222600           0.932700         0.960800   \n",
            "\n",
            "       concave_points_worst  symmetry_worst  fractal_dimension_worst  \n",
            "count            285.000000      285.000000               285.000000  \n",
            "mean               0.114973        0.288239                 0.083989  \n",
            "std                0.067888        0.057967                 0.017054  \n",
            "min                0.000000        0.156600                 0.055250  \n",
            "25%                0.063160        0.247500                 0.072200  \n",
            "50%                0.097220        0.280600                 0.080250  \n",
            "75%                0.167300        0.319600                 0.092150  \n",
            "max                0.291000        0.516600                 0.148600  \n",
            "\n",
            "[8 rows x 31 columns]\n",
            "{'id': (-1.1224800354647044, 0.2632378234504572), 'radius_mean': (-17.12622354393999, 7.823328824712768e-37), 'texture_mean': (-8.483254716910496, 2.2798220378814644e-15), 'perimeter_mean': (-17.464191240087104, 2.512837935378228e-37), 'area_mean': (-14.671864114477861, 7.104334201539508e-29), 'smoothness_mean': (-6.5131189796471265, 4.1016290062782564e-10), 'compactness_mean': (-13.376322947950353, 1.6171001392347682e-28), 'concavity_mean': (-15.162137680464399, 1.0217086857446027e-32), 'concave_points_mean': (-18.340889736913002, 1.823048744531899e-38), 'symmetry_mean': (-5.962738352441551, 8.891176866041726e-09), 'fractal_dimension_mean': (1.0582987567430182, 0.29095468392222623), 'radius_se': (-9.028272566055614, 3.291264284013343e-15), 'texture_se': (0.5325974106535533, 0.594755869926533), 'perimeter_se': (-8.72610182903144, 2.0565053023641822e-14), 'area_se': (-8.018230114241502, 1.2435782901268662e-12), 'smoothness_se': (3.047188049983836, 0.0025283039029481394), 'compactness_se': (-5.308821161052348, 2.5827576311509334e-07), 'concavity_se': (-4.502296310266586, 9.909282941560133e-06), 'concave_points_se': (-7.390991027600016, 2.1036606752919765e-12), 'symmetry_se': (1.525495571865148, 0.12862763180495265), 'fractal_dimension_se': (-0.4054745421179836, 0.6854440447884182), 'radius_worst': (-19.362379999882812, 8.64822583127395e-41), 'texture_worst': (-9.38918751791468, 6.781571765748227e-18), 'perimeter_worst': (-19.401992163544868, 1.2862950567933828e-40), 'area_worst': (-15.594642016697136, 2.4132196179795166e-30), 'smoothness_worst': (-8.246816601368192, 1.4124249649681053e-14), 'compactness_worst': (-13.494771081887654, 1.9171838065281177e-27), 'concavity_worst': (-16.74392813853588, 8.986551047566485e-39), 'concave_points_worst': (-23.846886801567354, 2.311066097433645e-58), 'symmetry_worst': (-8.696904709593175, 3.1299118080187866e-15), 'fractal_dimension_worst': (-6.016973482565276, 9.389382169344964e-09)}\n"
          ]
        }
      ]
    },
    {
      "cell_type": "code",
      "source": [
        "import pandas as pd\n",
        "from scipy import stats\n",
        "\n",
        "# Load your datasets\n",
        "cancer_data_1 = pd.read_csv(cancer_data_1_path)\n",
        "cancer_data_2 = pd.read_csv(cancer_data_2_path)\n",
        "\n",
        "# Assuming cancer_data_1 is similar to Validation phase 1 data and cancer_data_2 is similar to Validation phase 2 data\n",
        "\n",
        "# Define a function to calculate descriptive statistics and perform the t-test\n",
        "def analyze_phase(data, continuous_vars, category_var):\n",
        "    descriptive_stats = data[continuous_vars].describe().T[['mean', 'std']]\n",
        "    t_tests = {var: stats.ttest_ind_from_stats(\n",
        "                    mean1=descriptive_stats.at[var, 'mean'],\n",
        "                    std1=descriptive_stats.at[var, 'std'],\n",
        "                    nobs1=len(data) / 2,  # Assuming equal split for two groups\n",
        "                    mean2=descriptive_stats.at[var, 'mean'],  # Placeholder, replace with actual group mean\n",
        "                    std2=descriptive_stats.at[var, 'std'],  # Placeholder, replace with actual group std\n",
        "                    nobs2=len(data) / 2,  # Assuming equal split for two groups\n",
        "                    equal_var=False\n",
        "                ) for var in continuous_vars}\n",
        "\n",
        "    # For categorical variables\n",
        "    chi2_tests = {}\n",
        "    for var in data.select_dtypes(include='object').columns:\n",
        "        contingency_table = pd.crosstab(data[var], data[category_var])\n",
        "        chi2, p, dof, ex = stats.chi2_contingency(contingency_table, correction=False)\n",
        "        chi2_tests[var] = (chi2, p)\n",
        "\n",
        "    return descriptive_stats, t_tests, chi2_tests\n",
        "\n",
        "# Define the continuous and categorical variables for cancer_data_1\n",
        "# You need to adjust the variable names to match those in your datasets\n",
        "continuous_vars_1 = ['radius_mean', 'texture_mean']  # Replace with actual continuous variable names\n",
        "category_var_1 = 'diagnosis'  # Replace with actual categorical variable name\n",
        "\n",
        "# Define the continuous and categorical variables for cancer_data_2\n",
        "# You need to adjust the variable names to match those in your datasets\n",
        "continuous_vars_2 = ['Tumor Size']  # Replace with actual continuous variable names\n",
        "category_var_2 = 'Status'  # Replace with actual categorical variable name\n",
        "\n",
        "# Analyze validation phase 1\n",
        "descriptive_stats_1, t_tests_1, chi2_tests_1 = analyze_phase(cancer_data_1, continuous_vars_1, category_var_1)\n",
        "\n",
        "# Analyze validation phase 2\n",
        "descriptive_stats_2, t_tests_2, chi2_tests_2 = analyze_phase(cancer_data_2, continuous_vars_2, category_var_2)\n",
        "\n",
        "# Print the results for validation phase 1\n",
        "print(\"Validation Phase 1 - Descriptive Statistics:\")\n",
        "print(descriptive_stats_1)\n",
        "print(\"\\nValidation Phase 1 - T-Test Results:\")\n",
        "for var, (stat, p) in t_tests_1.items():\n",
        "    print(f\"{var} t-test: statistic={stat}, pvalue={p}\")\n",
        "\n",
        "print(\"\\nValidation Phase 1 - Chi-Square Test Results:\")\n",
        "for var, (chi2, p) in chi2_tests_1.items():\n",
        "    print(f\"{var} chi-square: statistic={chi2}, pvalue={p}\")\n",
        "\n",
        "# Print the results for validation phase 2\n",
        "print(\"\\nValidation Phase 2 - Descriptive Statistics:\")\n",
        "print(descriptive_stats_2)\n",
        "print(\"\\nValidation Phase 2 - T-Test Results:\")\n",
        "for var, (stat, p) in t_tests_2.items():\n",
        "    print(f\"{var} t-test: statistic={stat}, pvalue={p}\")\n",
        "\n"
      ],
      "metadata": {
        "id": "NyPs5ugftBe7",
        "colab": {
          "base_uri": "https://localhost:8080/"
        },
        "outputId": "012799e6-1b2b-49e0-d4b3-53e39d65e531"
      },
      "execution_count": 13,
      "outputs": [
        {
          "output_type": "stream",
          "name": "stdout",
          "text": [
            "Validation Phase 1 - Descriptive Statistics:\n",
            "                   mean       std\n",
            "radius_mean   14.127292  3.524049\n",
            "texture_mean  19.289649  4.301036\n",
            "\n",
            "Validation Phase 1 - T-Test Results:\n",
            "radius_mean t-test: statistic=0.0, pvalue=1.0\n",
            "texture_mean t-test: statistic=0.0, pvalue=1.0\n",
            "\n",
            "Validation Phase 1 - Chi-Square Test Results:\n",
            "diagnosis chi-square: statistic=569.0, pvalue=9.264967333383114e-126\n",
            "\n",
            "Validation Phase 2 - Descriptive Statistics:\n",
            "                 mean        std\n",
            "Tumor Size  30.473658  21.119696\n",
            "\n",
            "Validation Phase 2 - T-Test Results:\n",
            "Tumor Size t-test: statistic=0.0, pvalue=1.0\n"
          ]
        }
      ]
    },
    {
      "cell_type": "code",
      "source": [
        "# Preparing the data for analysis - Select variables that are suitable for T-test and Chi-square test from cancer_data_2\n",
        "# Continuous variables for T-test: 'Tumor Size' and 'Survival Months'\n",
        "# Categorical variables for Chi-square test: 'Estrogen Status' and 'Progesterone Status'\n",
        "\n",
        "# Convert 'Estrogen Status' and 'Progesterone Status' to binary (1 for Positive, 0 for Negative)\n",
        "cancer_data_2['Estrogen Status'] = (cancer_data_2['Estrogen Status'] == 'Positive').astype(int)\n",
        "cancer_data_2['Progesterone Status'] = (cancer_data_2['Progesterone Status'] == 'Positive').astype(int)\n",
        "\n",
        "# Assuming 'Status' column indicates survival status, convert to binary (1 for Dead, 0 for Alive) for T-test comparison\n",
        "cancer_data_2['Status'] = (cancer_data_2['Status'] == 'Dead').astype(int)\n",
        "\n",
        "# Perform T-tests for 'Tumor Size' and 'Survival Months'\n",
        "t_test_tumor_size = stats.ttest_ind(\n",
        "    cancer_data_2[cancer_data_2['Status'] == 1]['Tumor Size'],\n",
        "    cancer_data_2[cancer_data_2['Status'] == 0]['Tumor Size'],\n",
        "    equal_var=False, nan_policy='omit'\n",
        ")\n",
        "\n",
        "t_test_survival_months = stats.ttest_ind(\n",
        "    cancer_data_2[cancer_data_2['Status'] == 1]['Survival Months'],\n",
        "    cancer_data_2[cancer_data_2['Status'] == 0]['Survival Months'],\n",
        "    equal_var=False, nan_policy='omit'\n",
        ")\n",
        "\n",
        "# Perform Chi-square tests for 'Estrogen Status' and 'Progesterone Status'\n",
        "chi2_estrogen = stats.chi2_contingency(\n",
        "    pd.crosstab(cancer_data_2['Status'], cancer_data_2['Estrogen Status'])\n",
        ")\n",
        "chi2_progesterone = stats.chi2_contingency(\n",
        "    pd.crosstab(cancer_data_2['Status'], cancer_data_2['Progesterone Status'])\n",
        ")\n",
        "\n",
        "# Collecting the statistics and p-values\n",
        "stats_results = {\n",
        "    'Tumor Size': {\n",
        "        't_stat': t_test_tumor_size.statistic,\n",
        "        'p_value': t_test_tumor_size.pvalue\n",
        "    },\n",
        "    'Survival Months': {\n",
        "        't_stat': t_test_survival_months.statistic,\n",
        "        'p_value': t_test_survival_months.pvalue\n",
        "    },\n",
        "    'Estrogen Status': {\n",
        "        'chi2_stat': chi2_estrogen[0],\n",
        "        'p_value': chi2_estrogen[1]\n",
        "    },\n",
        "    'Progesterone Status': {\n",
        "        'chi2_stat': chi2_progesterone[0],\n",
        "        'p_value': chi2_progesterone[1]\n",
        "    }\n",
        "}\n",
        "\n",
        "# Calculate means and standard deviations for continuous variables\n",
        "means_stds = cancer_data_2[['Tumor Size', 'Survival Months']].agg(['mean', 'std']).to_dict()\n",
        "\n",
        "# Calculate percentages for categorical variables\n",
        "percent_positive = {\n",
        "    'Estrogen Status': (cancer_data_2['Estrogen Status'].mean() * 100),\n",
        "    'Progesterone Status': (cancer_data_2['Progesterone Status'].mean() * 100)\n",
        "}\n",
        "\n",
        "stats_results, means_stds, percent_positive\n"
      ],
      "metadata": {
        "id": "2hk84I1wIjEi",
        "colab": {
          "base_uri": "https://localhost:8080/"
        },
        "outputId": "23159f16-86f5-41e0-9469-bb51f5e3af3f"
      },
      "execution_count": 14,
      "outputs": [
        {
          "output_type": "execute_result",
          "data": {
            "text/plain": [
              "({'Tumor Size': {'t_stat': 7.626534525432406,\n",
              "   'p_value': 7.019568167375124e-14},\n",
              "  'Survival Months': {'t_stat': -29.702852507451993,\n",
              "   'p_value': 1.192570662054788e-129},\n",
              "  'Estrogen Status': {'chi2_stat': 135.15573910922313,\n",
              "   'p_value': 3.0526081181489177e-31},\n",
              "  'Progesterone Status': {'chi2_stat': 124.88538788060697,\n",
              "   'p_value': 5.392079685518964e-29}},\n",
              " {'Tumor Size': {'mean': 30.47365805168986, 'std': 21.119696090412837},\n",
              "  'Survival Months': {'mean': 71.29796222664015, 'std': 22.92142954120322}},\n",
              " {'Estrogen Status': 93.31510934393638,\n",
              "  'Progesterone Status': 82.65407554671968})"
            ]
          },
          "metadata": {},
          "execution_count": 14
        }
      ]
    },
    {
      "cell_type": "markdown",
      "source": [
        "# Supplimentary Phase for Clinical Validation"
      ],
      "metadata": {
        "id": "sGAgN63KJghm"
      }
    },
    {
      "cell_type": "markdown",
      "source": [
        "# Morphological Features Related to TNBC"
      ],
      "metadata": {
        "id": "V4MH9q_wJ1e_"
      }
    },
    {
      "cell_type": "code",
      "source": [
        "import pandas as pd\n",
        "import matplotlib.pyplot as plt\n",
        "import seaborn as sns\n",
        "\n",
        "# Load the dataset\n",
        "data_1_path = '/content/cancer_data_1.csv'  # Adjust path as necessary\n",
        "data_1 = pd.read_csv(data_1_path)\n",
        "\n",
        "# Filter for TNBC cases assuming 'M' indicates malignant cases\n",
        "tnbc_cases = data_1[data_1['diagnosis'] == 'M']\n",
        "\n",
        "# Calculate mean values of morphological features for TNBC cases\n",
        "mean_features = tnbc_cases.describe().loc['mean']\n",
        "\n",
        "# Print mean values to get an overview\n",
        "print(\"Mean values of morphological features for TNBC cases:\")\n",
        "print(mean_features)\n",
        "\n",
        "# Visualize the distribution of some morphological features\n",
        "features_to_plot = ['radius_mean', 'texture_mean', 'perimeter_mean', 'area_mean', 'smoothness_mean']\n",
        "\n",
        "# Plot histograms for the selected features\n",
        "plt.figure(figsize=(10, 6))\n",
        "for i, feature in enumerate(features_to_plot, 1):\n",
        "    plt.subplot(2, 3, i)\n",
        "    sns.histplot(tnbc_cases[feature], kde=True, bins=20)\n",
        "    plt.title(f'Distribution of {feature}')\n",
        "    plt.xlabel(feature)\n",
        "    plt.ylabel('Frequency')\n",
        "\n",
        "plt.tight_layout()\n",
        "plt.show()\n",
        "\n",
        "# Box plots to visualize the variability and presence of outliers\n",
        "plt.figure(figsize=(6, 4))\n",
        "sns.boxplot(data=tnbc_cases[features_to_plot])\n",
        "plt.title('Box plot of selected morphological features')\n",
        "plt.ylabel('Value')\n",
        "plt.xticks(rotation=45)\n",
        "plt.show()\n"
      ],
      "metadata": {
        "id": "8Ndkw0eTJkR4",
        "colab": {
          "base_uri": "https://localhost:8080/",
          "height": 1000
        },
        "outputId": "3f429ec8-c2b2-4827-f4aa-bb1de53b9aaa"
      },
      "execution_count": 15,
      "outputs": [
        {
          "output_type": "stream",
          "name": "stdout",
          "text": [
            "Mean values of morphological features for TNBC cases:\n",
            "id                         3.681805e+07\n",
            "radius_mean                1.746283e+01\n",
            "texture_mean               2.160491e+01\n",
            "perimeter_mean             1.153654e+02\n",
            "area_mean                  9.783764e+02\n",
            "smoothness_mean            1.028985e-01\n",
            "compactness_mean           1.451878e-01\n",
            "concavity_mean             1.607747e-01\n",
            "concave_points_mean        8.799000e-02\n",
            "symmetry_mean              1.929090e-01\n",
            "fractal_dimension_mean     6.268009e-02\n",
            "radius_se                  6.090825e-01\n",
            "texture_se                 1.210915e+00\n",
            "perimeter_se               4.323929e+00\n",
            "area_se                    7.267241e+01\n",
            "smoothness_se              6.780094e-03\n",
            "compactness_se             3.228117e-02\n",
            "concavity_se               4.182401e-02\n",
            "concave_points_se          1.506047e-02\n",
            "symmetry_se                2.047240e-02\n",
            "fractal_dimension_se       4.062406e-03\n",
            "radius_worst               2.113481e+01\n",
            "texture_worst              2.931821e+01\n",
            "perimeter_worst            1.413703e+02\n",
            "area_worst                 1.422286e+03\n",
            "smoothness_worst           1.448452e-01\n",
            "compactness_worst          3.748241e-01\n",
            "concavity_worst            4.506056e-01\n",
            "concave_points_worst       1.822373e-01\n",
            "symmetry_worst             3.234679e-01\n",
            "fractal_dimension_worst    9.152995e-02\n",
            "Name: mean, dtype: float64\n"
          ]
        },
        {
          "output_type": "display_data",
          "data": {
            "text/plain": [
              "<Figure size 1000x600 with 5 Axes>"
            ],
            "image/png": "[encoded data removed]"
          },
          "metadata": {}
        },
        {
          "output_type": "display_data",
          "data": {
            "text/plain": [
              "<Figure size 600x400 with 1 Axes>"
            ],
            "image/png": "[encoded data removed]"
          },
          "metadata": {}
        }
      ]
    },
    {
      "cell_type": "code",
      "source": [
        "import pandas as pd\n",
        "\n",
        "# Assuming you've already loaded your dataset into data_1\n",
        "# data_1 = pd.read_csv('/path/to/cancer_data_1.csv')\n",
        "\n",
        "# Filter for TNBC cases assuming 'M' indicates malignant cases\n",
        "tnbc_cases = data_1[data_1['diagnosis'] == 'M']\n",
        "\n",
        "# Display the number of TNBC cases found\n",
        "print(f\"Number of TNBC malignant cases: {tnbc_cases.shape[0]}\")\n",
        "\n",
        "# Display a summary of the TNBC cases\n",
        "print(\"\\nSummary of TNBC cases:\")\n",
        "print(tnbc_cases.describe())\n"
      ],
      "metadata": {
        "id": "chskobwnNKIP",
        "colab": {
          "base_uri": "https://localhost:8080/"
        },
        "outputId": "d99de92d-4804-4251-9d69-79117784a349"
      },
      "execution_count": 16,
      "outputs": [
        {
          "output_type": "stream",
          "name": "stdout",
          "text": [
            "Number of TNBC malignant cases: 212\n",
            "\n",
            "Summary of TNBC cases:\n",
            "                 id  radius_mean  texture_mean  perimeter_mean    area_mean  \\\n",
            "count  2.120000e+02   212.000000    212.000000      212.000000   212.000000   \n",
            "mean   3.681805e+07    17.462830     21.604906      115.365377   978.376415   \n",
            "std    1.378965e+08     3.203971      3.779470       21.854653   367.937978   \n",
            "min    8.670000e+03    10.950000     10.380000       71.900000   361.600000   \n",
            "25%    8.613450e+05    15.075000     19.327500       98.745000   705.300000   \n",
            "50%    8.953665e+05    17.325000     21.460000      114.200000   932.000000   \n",
            "75%    8.911290e+06    19.590000     23.765000      129.925000  1203.750000   \n",
            "max    9.112962e+08    28.110000     39.280000      188.500000  2501.000000   \n",
            "\n",
            "       smoothness_mean  compactness_mean  concavity_mean  concave_points_mean  \\\n",
            "count       212.000000        212.000000      212.000000           212.000000   \n",
            "mean          0.102898          0.145188        0.160775             0.087990   \n",
            "std           0.012608          0.053987        0.075019             0.034374   \n",
            "min           0.073710          0.046050        0.023980             0.020310   \n",
            "25%           0.094010          0.109600        0.109525             0.064620   \n",
            "50%           0.102200          0.132350        0.151350             0.086280   \n",
            "75%           0.110925          0.172400        0.203050             0.103175   \n",
            "max           0.144700          0.345400        0.426800             0.201200   \n",
            "\n",
            "       symmetry_mean  ...  radius_worst  texture_worst  perimeter_worst  \\\n",
            "count     212.000000  ...    212.000000     212.000000       212.000000   \n",
            "mean        0.192909  ...     21.134811      29.318208       141.370330   \n",
            "std         0.027638  ...      4.283569       5.434804        29.457055   \n",
            "min         0.130800  ...     12.840000      16.670000        85.100000   \n",
            "25%         0.174050  ...     17.730000      25.782500       119.325000   \n",
            "50%         0.189900  ...     20.590000      28.945000       138.000000   \n",
            "75%         0.209850  ...     23.807500      32.690000       159.800000   \n",
            "max         0.304000  ...     36.040000      49.540000       251.200000   \n",
            "\n",
            "        area_worst  smoothness_worst  compactness_worst  concavity_worst  \\\n",
            "count   212.000000        212.000000         212.000000       212.000000   \n",
            "mean   1422.286321          0.144845           0.374824         0.450606   \n",
            "std     597.967743          0.021870           0.170372         0.181507   \n",
            "min     508.100000          0.088220           0.051310         0.023980   \n",
            "25%     970.300000          0.130475           0.244475         0.326425   \n",
            "50%    1303.000000          0.143450           0.356350         0.404900   \n",
            "75%    1712.750000          0.155975           0.447850         0.556175   \n",
            "max    4254.000000          0.222600           1.058000         1.170000   \n",
            "\n",
            "       concave_points_worst  symmetry_worst  fractal_dimension_worst  \n",
            "count            212.000000      212.000000               212.000000  \n",
            "mean               0.182237        0.323468                 0.091530  \n",
            "std                0.046308        0.074685                 0.021553  \n",
            "min                0.028990        0.156500                 0.055040  \n",
            "25%                0.152750        0.276500                 0.076302  \n",
            "50%                0.182000        0.310300                 0.087600  \n",
            "75%                0.210675        0.359225                 0.102625  \n",
            "max                0.291000        0.663800                 0.207500  \n",
            "\n",
            "[8 rows x 31 columns]\n"
          ]
        }
      ]
    },
    {
      "cell_type": "markdown",
      "source": [
        " ###morphological Analysis In terms of supplimentary Phase:\n",
        "\n",
        "The term \"malignant\" typically refers to cancerous tumors that are more likely to grow and spread aggressively. In the context of breast cancer, Triple-Negative Breast Cancer (TNBC) is a subtype that is particularly noted for not expressing the genes for estrogen receptor (ER), progesterone receptor (PR), and HER2/neu. This makes TNBC more challenging to treat with hormone therapy or medications that target HER2.\n",
        "\n",
        "\n",
        "- **Count**: The number of malignant cases analyzed is 212.\n",
        "- **Mean**: The average value for each morphological feature among these malignant cases. For example, the average `radius_mean` is 17.46, indicating the average size of the tumors' radius is relatively large.\n",
        "- **Standard Deviation (std)**: Measures the variation or dispersion of the feature values from the mean. A higher standard deviation indicates greater variability. For example, `radius_mean` has a standard deviation of 3.20, showing variability in tumor sizes.\n",
        "- **Min and Max**: The smallest and largest values observed for each feature, indicating the range. For `radius_mean`, this ranges from 10.95 to 28.11.\n",
        "- **Percentiles (25%, 50%, 75%)**: These values provide insight into the distribution of the data. The 50th percentile (median) gives the middle value of the dataset, with 50% of cases having a lower value and 50% having a higher value. For `radius_mean`, the median is 17.32, closely aligned with the mean, suggesting a somewhat symmetric distribution of tumor sizes.\n",
        "\n",
        "\n",
        "\n"
      ],
      "metadata": {
        "id": "Un2dxhPENu8D"
      }
    },
    {
      "cell_type": "code",
      "source": [
        "# Display the first 5 rows of the filtered TNBC cases\n",
        "print(\"\\nFirst 5 rows of TNBC cases:\")\n",
        "print(tnbc_cases.head())\n"
      ],
      "metadata": {
        "id": "Kjfq3kkpOio_",
        "colab": {
          "base_uri": "https://localhost:8080/"
        },
        "outputId": "7c6cb6c0-ef0a-43bc-8b25-8be208723a03"
      },
      "execution_count": 17,
      "outputs": [
        {
          "output_type": "stream",
          "name": "stdout",
          "text": [
            "\n",
            "First 5 rows of TNBC cases:\n",
            "         id diagnosis  radius_mean  texture_mean  perimeter_mean  area_mean  \\\n",
            "0    842302         M        17.99         10.38          122.80     1001.0   \n",
            "1    842517         M        20.57         17.77          132.90     1326.0   \n",
            "2  84300903         M        19.69         21.25          130.00     1203.0   \n",
            "3  84348301         M        11.42         20.38           77.58      386.1   \n",
            "4  84358402         M        20.29         14.34          135.10     1297.0   \n",
            "\n",
            "   smoothness_mean  compactness_mean  concavity_mean  concave_points_mean  \\\n",
            "0          0.11840           0.27760          0.3001              0.14710   \n",
            "1          0.08474           0.07864          0.0869              0.07017   \n",
            "2          0.10960           0.15990          0.1974              0.12790   \n",
            "3          0.14250           0.28390          0.2414              0.10520   \n",
            "4          0.10030           0.13280          0.1980              0.10430   \n",
            "\n",
            "   ...  radius_worst  texture_worst  perimeter_worst  area_worst  \\\n",
            "0  ...         25.38          17.33           184.60      2019.0   \n",
            "1  ...         24.99          23.41           158.80      1956.0   \n",
            "2  ...         23.57          25.53           152.50      1709.0   \n",
            "3  ...         14.91          26.50            98.87       567.7   \n",
            "4  ...         22.54          16.67           152.20      1575.0   \n",
            "\n",
            "   smoothness_worst  compactness_worst  concavity_worst  concave_points_worst  \\\n",
            "0            0.1622             0.6656           0.7119                0.2654   \n",
            "1            0.1238             0.1866           0.2416                0.1860   \n",
            "2            0.1444             0.4245           0.4504                0.2430   \n",
            "3            0.2098             0.8663           0.6869                0.2575   \n",
            "4            0.1374             0.2050           0.4000                0.1625   \n",
            "\n",
            "   symmetry_worst  fractal_dimension_worst  \n",
            "0          0.4601                  0.11890  \n",
            "1          0.2750                  0.08902  \n",
            "2          0.3613                  0.08758  \n",
            "3          0.6638                  0.17300  \n",
            "4          0.2364                  0.07678  \n",
            "\n",
            "[5 rows x 32 columns]\n"
          ]
        }
      ]
    },
    {
      "cell_type": "markdown",
      "source": [
        "Each row represents a single patient's tumor with various morphological features measured.\n",
        "\n",
        "- **id**: A unique identifier for each patient's tumor sample.\n",
        "- **diagnosis**: The diagnosis of the tumor, where 'M' indicates a malignant tumor.\n",
        "- **radius_mean**: The average distance from the center to the perimeter of the tumor.\n",
        "- **texture_mean**: The standard deviation of grayscale values in the tumor tissue, indicating the smoothness or roughness of its texture.\n",
        "- **perimeter_mean**: The average size of the tumor's perimeter.\n",
        "- **area_mean**: The average area of the tumor.\n",
        "- **smoothness_mean**: A measure of the local variation in the lengths of the radiuses of the tumor.\n",
        "- **compactness_mean**: Measures the perimeter and area of the tumor to quantify its compactness.\n",
        "- **concavity_mean**: The severity of concave portions of the contour of the tumor.\n",
        "- **concave_points_mean**: The number of concave portions of the contour of the tumor.\n",
        "- **...**: Other columns follow a similar naming convention, detailing measurements of the tumor's characteristics.\n",
        "- **radius_worst**, **texture_worst**, **perimeter_worst**, **area_worst**, **smoothness_worst**, **compactness_worst**, **concavity_worst**, **concave_points_worst**, **symmetry_worst**, **fractal_dimension_worst**: These columns represent the \"worst\" or largest value taken from a series of measurements of the corresponding feature, indicating the highest severity observed for each characteristic.\n",
        "\n",
        "These results are crucial for understanding the characteristics of malignant tumors, particularly those classified as TNBC in this context. TNBC is characterized by the absence of estrogen receptors, progesterone receptors, and minimal HER2 expression, making it a subtype of breast cancer that does not respond to hormonal therapy and has limited treatment options. The dataset does not explicitly label tumors as TNBC, but 'M' (malignant) diagnosis is used here as a proxy to select cases potentially relevant for TNBC analysis based on the absence of molecular markers information.\n",
        "\n",
        "Analyzing these features can help in understanding the aggressiveness, growth pattern, and potential treatment responses of TNBC tumors. For instance, higher values in features like concavity, compactness, and concave points might indicate more aggressive tumors. This detailed morphological data is crucial for clinical research, aiding in the development of targeted therapies and improving diagnostic techniques for TNBC."
      ],
      "metadata": {
        "id": "1ewDgHV9PH6G"
      }
    }
  ]
}