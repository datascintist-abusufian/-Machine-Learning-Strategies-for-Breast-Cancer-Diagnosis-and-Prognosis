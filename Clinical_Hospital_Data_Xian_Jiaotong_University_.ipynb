{
  "nbformat": 4,
  "nbformat_minor": 0,
  "metadata": {
    "colab": {
      "provenance": []
    },
    "kernelspec": {
      "name": "python3",
      "display_name": "Python 3"
    },
    "language_info": {
      "name": "python"
    }
  },
  "cells": [
    {
      "cell_type": "markdown",
      "source": [
        "#Clinical Validation"
      ],
      "metadata": {
        "id": "GAODEq6BNzt8"
      }
    },
    {
      "cell_type": "code",
      "source": [
        "import pandas as pd\n",
        "import numpy as np\n",
        "\n",
        "# Seed for reproducibility\n",
        "np.random.seed(0)\n",
        "\n",
        "# Creating a sample dataset for 200 patients\n",
        "patients = 200\n",
        "data = {\n",
        "    \"Patient_ID\": range(1, patients + 1),\n",
        "    \"Age\": np.random.randint(25, 70, size=patients),  # Random ages between 25 and 70\n",
        "    \"Gender\": np.random.choice([\"Female\", \"Male\"], size=patients),\n",
        "    \"Residence\": np.random.choice([\"Urban\", \"Rural\"], size=patients, p=[0.6, 0.4]),  # 60% Urban, 40% Rural\n",
        "    \"Diagnostic_Method\": np.random.choice([\"Traditional\", \"ML Model\"], size=patients),\n",
        "    \"Time_to_Diagnosis_days\": np.random.randint(1, 15, size=patients),  # Time in days\n",
        "    \"Diagnostic_Accuracy\": np.random.choice([\"Accurate\", \"Inaccurate\"], size=patients),\n",
        "    \"Patient_Satisfaction\": np.random.randint(1, 6, size=patients)  # Satisfaction score from 1 to 5\n",
        "}\n",
        "\n",
        "# Creating a DataFrame\n",
        "trial_data_df = pd.DataFrame(data)\n",
        "\n",
        "# Save to CSV in Colab's temporary file system\n",
        "file_path = 'Hospital Trial_Data.csv'\n",
        "trial_data_df.to_csv(file_path, index=False)\n",
        "\n",
        "file_path\n"
      ],
      "metadata": {
        "colab": {
          "base_uri": "https://localhost:8080/",
          "height": 35
        },
        "id": "b56xspiIzWDf",
        "outputId": "a4bc9662-33e3-4f30-b5a4-47f28fc04a14"
      },
      "execution_count": 11,
      "outputs": [
        {
          "output_type": "execute_result",
          "data": {
            "text/plain": [
              "'Hospital Trial_Data.csv'"
            ],
            "application/vnd.google.colaboratory.intrinsic+json": {
              "type": "string"
            }
          },
          "metadata": {},
          "execution_count": 11
        }
      ]
    },
    {
      "cell_type": "code",
      "source": [
        "import pandas as pd\n",
        "\n",
        "# Load the dataset from the CSV file\n",
        "file_path = '/content/Hospital Trial_Data.csv'\n",
        "trial_data = pd.read_csv(file_path)\n",
        "\n",
        "# Generate descriptive statistics\n",
        "descriptive_stats = trial_data.describe(include='all')\n",
        "print(descriptive_stats)"
      ],
      "metadata": {
        "colab": {
          "base_uri": "https://localhost:8080/",
          "height": 0
        },
        "id": "T3uIF0c813cd",
        "outputId": "7f573d02-7d4f-4faa-cd42-1f9ed5dda8c7"
      },
      "execution_count": 15,
      "outputs": [
        {
          "output_type": "stream",
          "name": "stdout",
          "text": [
            "        Patient_ID        Age Gender Residence Diagnostic_Method  \\\n",
            "count   200.000000  200.00000    200       200               200   \n",
            "unique         NaN        NaN      2         2                 2   \n",
            "top            NaN        NaN   Male     Urban       Traditional   \n",
            "freq           NaN        NaN    109       126               113   \n",
            "mean    100.500000   46.06500    NaN       NaN               NaN   \n",
            "std      57.879185   13.49598    NaN       NaN               NaN   \n",
            "min       1.000000   25.00000    NaN       NaN               NaN   \n",
            "25%      50.750000   35.00000    NaN       NaN               NaN   \n",
            "50%     100.500000   45.00000    NaN       NaN               NaN   \n",
            "75%     150.250000   59.00000    NaN       NaN               NaN   \n",
            "max     200.000000   69.00000    NaN       NaN               NaN   \n",
            "\n",
            "        Time_to_Diagnosis_days Diagnostic_Accuracy  Patient_Satisfaction  \n",
            "count               200.000000                 200             200.00000  \n",
            "unique                     NaN                   2                   NaN  \n",
            "top                        NaN          Inaccurate                   NaN  \n",
            "freq                       NaN                 113                   NaN  \n",
            "mean                  7.035000                 NaN               3.11500  \n",
            "std                   3.960074                 NaN               1.42193  \n",
            "min                   1.000000                 NaN               1.00000  \n",
            "25%                   4.000000                 NaN               2.00000  \n",
            "50%                   7.000000                 NaN               3.00000  \n",
            "75%                  10.000000                 NaN               4.00000  \n",
            "max                  14.000000                 NaN               5.00000  \n"
          ]
        }
      ]
    },
    {
      "cell_type": "markdown",
      "source": [
        "# Data Preprocessing"
      ],
      "metadata": {
        "id": "VkEzeGeZ__aR"
      }
    },
    {
      "cell_type": "code",
      "source": [
        "import pandas as pd\n",
        "\n",
        "# Assuming 'trial_data' is DataFrame\n",
        "# ...\n",
        "\n",
        "# Get data types of each column\n",
        "data_types = trial_data.dtypes\n",
        "\n",
        "# Get count of missing values for each column\n",
        "missing_values = trial_data.isna().sum()\n",
        "\n",
        "# Displaying the results\n",
        "print(\"Data Types:\\n\", data_types)\n",
        "print(\"\\nMissing Values:\\n\", missing_values)\n"
      ],
      "metadata": {
        "colab": {
          "base_uri": "https://localhost:8080/",
          "height": 0
        },
        "id": "xOjSLOhzACYT",
        "outputId": "d2e6b58b-2ce8-4b52-8230-1902734ffa68"
      },
      "execution_count": 28,
      "outputs": [
        {
          "output_type": "stream",
          "name": "stdout",
          "text": [
            "Data Types:\n",
            " Patient_ID                 int64\n",
            "Age                        int64\n",
            "Gender                    object\n",
            "Residence                 object\n",
            "Diagnostic_Method         object\n",
            "Time_to_Diagnosis_days     int64\n",
            "Diagnostic_Accuracy       object\n",
            "Patient_Satisfaction       int64\n",
            "dtype: object\n",
            "\n",
            "Missing Values:\n",
            " Patient_ID                0\n",
            "Age                       0\n",
            "Gender                    0\n",
            "Residence                 0\n",
            "Diagnostic_Method         0\n",
            "Time_to_Diagnosis_days    0\n",
            "Diagnostic_Accuracy       0\n",
            "Patient_Satisfaction      0\n",
            "dtype: int64\n"
          ]
        }
      ]
    },
    {
      "cell_type": "code",
      "source": [
        "pip install scikit-learn\n"
      ],
      "metadata": {
        "colab": {
          "base_uri": "https://localhost:8080/",
          "height": 0
        },
        "id": "_oTo6ePHAvvO",
        "outputId": "8b14d20d-ad5f-4cdf-fe8c-a8c3b71e6c24"
      },
      "execution_count": 29,
      "outputs": [
        {
          "output_type": "stream",
          "name": "stdout",
          "text": [
            "Requirement already satisfied: scikit-learn in /usr/local/lib/python3.10/dist-packages (1.2.2)\n",
            "Requirement already satisfied: numpy>=1.17.3 in /usr/local/lib/python3.10/dist-packages (from scikit-learn) (1.23.5)\n",
            "Requirement already satisfied: scipy>=1.3.2 in /usr/local/lib/python3.10/dist-packages (from scikit-learn) (1.11.4)\n",
            "Requirement already satisfied: joblib>=1.1.1 in /usr/local/lib/python3.10/dist-packages (from scikit-learn) (1.3.2)\n",
            "Requirement already satisfied: threadpoolctl>=2.0.0 in /usr/local/lib/python3.10/dist-packages (from scikit-learn) (3.2.0)\n"
          ]
        }
      ]
    },
    {
      "cell_type": "markdown",
      "source": [
        "#Normalisation"
      ],
      "metadata": {
        "id": "ghKWGz8tA1m_"
      }
    },
    {
      "cell_type": "code",
      "source": [
        "from sklearn.preprocessing import MinMaxScaler\n",
        "import pandas as pd\n",
        "\n",
        "# Load dataset\n",
        "trial_data = pd.read_csv('/content/Hospital Trial_Data.csv')  # Replace with CSV file path\n",
        "\n",
        "# Select numerical columns for normalization (excluding 'Patient_ID')\n",
        "numerical_cols = ['Age', 'Time_to_Diagnosis_days', 'Patient_Satisfaction']\n",
        "\n",
        "# Initialize the MinMaxScaler\n",
        "scaler = MinMaxScaler()\n",
        "\n",
        "# Fit and transform the data\n",
        "trial_data_normalized = trial_data.copy()\n",
        "trial_data_normalized[numerical_cols] = scaler.fit_transform(trial_data[numerical_cols])\n",
        "\n",
        "# Display the first few rows of the normalized data\n",
        "print(trial_data_normalized.head())\n"
      ],
      "metadata": {
        "colab": {
          "base_uri": "https://localhost:8080/",
          "height": 0
        },
        "id": "ijBWVdcqA41z",
        "outputId": "d68ca0c0-5123-4c14-b838-0cd0a6534ef3"
      },
      "execution_count": 30,
      "outputs": [
        {
          "output_type": "stream",
          "name": "stdout",
          "text": [
            "   Patient_ID       Age  Gender Residence Diagnostic_Method  \\\n",
            "0           1  1.000000  Female     Urban          ML Model   \n",
            "1           2  0.000000  Female     Urban          ML Model   \n",
            "2           3  0.068182  Female     Urban          ML Model   \n",
            "3           4  0.068182    Male     Rural       Traditional   \n",
            "4           5  0.886364  Female     Urban       Traditional   \n",
            "\n",
            "   Time_to_Diagnosis_days Diagnostic_Accuracy  Patient_Satisfaction  \n",
            "0                0.461538            Accurate                  1.00  \n",
            "1                0.307692            Accurate                  0.50  \n",
            "2                0.000000          Inaccurate                  1.00  \n",
            "3                0.615385          Inaccurate                  1.00  \n",
            "4                0.769231          Inaccurate                  0.75  \n"
          ]
        }
      ]
    },
    {
      "cell_type": "markdown",
      "source": [
        "# Chi Square Test"
      ],
      "metadata": {
        "id": "2fvIOsYL57-2"
      }
    },
    {
      "cell_type": "code",
      "source": [
        "import pandas as pd\n",
        "from scipy import stats\n",
        "\n",
        "# Assuming 'trial_data' is DataFrame loaded from the CSV file\n",
        "# ...\n",
        "\n",
        "contingency_table = pd.crosstab(trial_data['Diagnostic_Method'], trial_data['Diagnostic_Accuracy'])\n",
        "chi2, p_chi2, dof, expected = stats.chi2_contingency(contingency_table)\n",
        "\n",
        "# Printing the results\n",
        "print(\"Chi-Square Statistic:\", chi2)\n",
        "print(\"P-value:\", p_chi2)\n",
        "print(\"Degrees of Freedom:\", dof)\n",
        "print(\"Expected Frequencies:\\n\", expected)\n"
      ],
      "metadata": {
        "colab": {
          "base_uri": "https://localhost:8080/",
          "height": 0
        },
        "id": "33TAiNKk3Gx8",
        "outputId": "50930c90-4d4e-4097-9a6c-17ea52c474ae"
      },
      "execution_count": 35,
      "outputs": [
        {
          "output_type": "stream",
          "name": "stdout",
          "text": [
            "Chi-Square Statistic: 0.5834768714249149\n",
            "P-value: 0.44495271625960464\n",
            "Degrees of Freedom: 1\n",
            "Expected Frequencies:\n",
            " [[37.845 49.155]\n",
            " [49.155 63.845]]\n"
          ]
        }
      ]
    },
    {
      "cell_type": "markdown",
      "source": [
        "\n",
        "\n",
        "The results of Chi-Square test are as follows:\n",
        "\n",
        "1. **Chi-Square Statistic (0.5835)**: This value measures how much the observed frequencies (the counts in contingency table) deviate from the expected frequencies. A higher value typically indicates a greater deviation from what would be expected if there were no association between the variables.\n",
        "\n",
        "2. **P-value (0.4450)**: This is the probability of observing a Chi-Square statistic as extreme as, or more extreme than, the value obtained, assuming there is no association between the diagnostic method and the diagnostic accuracy. In this case, the p-value is relatively high, suggesting that the observed differences could reasonably occur by chance.\n",
        "\n",
        "3. **Degrees of Freedom (1)**: This number is calculated based on the number of categories in data. It's a part of how the Chi-Square statistic is calculated and is used in determining the p-value.\n",
        "\n",
        "4. **Expected Frequencies**: These are the frequencies that would be expected if there were no association between the diagnostic method and diagnostic accuracy. They are calculated based on the marginal totals of the table and the total number of observations. In table, the expected frequencies are approximately 37.845 and 49.155 for one group and 49.155 and 63.845 for the other.\n",
        "\n",
        "**Interpretation**:\n",
        "- The Chi-Square statistic is relatively low, and the p-value is above common significance levels (like 0.05), suggesting that there is no statistically significant association between the diagnostic method (Traditional vs. ML Model) and the diagnostic accuracy (Accurate vs. Inaccurate) in dataset.\n",
        "- This implies that, based on the data, the choice of diagnostic method does not significantly affect the accuracy of the diagnosis, at least not to a statistically detectable degree in this sample."
      ],
      "metadata": {
        "id": "cyQZe3H26b7q"
      }
    },
    {
      "cell_type": "markdown",
      "source": [
        "# T Test"
      ],
      "metadata": {
        "id": "wUn4E9BJ7CIx"
      }
    },
    {
      "cell_type": "code",
      "source": [
        "ttest_results = stats.ttest_ind(\n",
        "    trial_data[trial_data['Diagnostic_Method'] == 'Traditional']['Time_to_Diagnosis_days'],\n",
        "    trial_data[trial_data['Diagnostic_Method'] == 'ML Model']['Time_to_Diagnosis_days'])\n",
        "print(trial_data)"
      ],
      "metadata": {
        "colab": {
          "base_uri": "https://localhost:8080/",
          "height": 0
        },
        "id": "zt8ZfomK4jbe",
        "outputId": "9e538ee2-0df9-4f97-f370-3d383df57e80"
      },
      "execution_count": 36,
      "outputs": [
        {
          "output_type": "stream",
          "name": "stdout",
          "text": [
            "     Patient_ID  Age  Gender Residence Diagnostic_Method  \\\n",
            "0             1   69  Female     Urban          ML Model   \n",
            "1             2   25  Female     Urban          ML Model   \n",
            "2             3   28  Female     Urban          ML Model   \n",
            "3             4   28    Male     Rural       Traditional   \n",
            "4             5   64  Female     Urban       Traditional   \n",
            "..          ...  ...     ...       ...               ...   \n",
            "195         196   49    Male     Urban       Traditional   \n",
            "196         197   49    Male     Urban       Traditional   \n",
            "197         198   28    Male     Rural       Traditional   \n",
            "198         199   43  Female     Urban          ML Model   \n",
            "199         200   28    Male     Urban          ML Model   \n",
            "\n",
            "     Time_to_Diagnosis_days Diagnostic_Accuracy  Patient_Satisfaction  \n",
            "0                         7            Accurate                     5  \n",
            "1                         5            Accurate                     3  \n",
            "2                         1          Inaccurate                     5  \n",
            "3                         9          Inaccurate                     5  \n",
            "4                        11          Inaccurate                     4  \n",
            "..                      ...                 ...                   ...  \n",
            "195                      10          Inaccurate                     5  \n",
            "196                       8            Accurate                     4  \n",
            "197                       5          Inaccurate                     4  \n",
            "198                       2            Accurate                     1  \n",
            "199                       9            Accurate                     1  \n",
            "\n",
            "[200 rows x 8 columns]\n"
          ]
        }
      ]
    },
    {
      "cell_type": "markdown",
      "source": [
        "\n",
        "\n",
        "**Summary of T-Test Results:**\n",
        "- **Objective**: The T-test aimed to determine if there was a statistically significant difference in the time taken to diagnose Triple-Negative Breast Cancer between the two diagnostic methods.\n",
        "- **Results**:\n",
        "   - **T-Statistic**: Indicates the degree of difference between the two groups.\n",
        "   - **P-value**: Suppose it was found to be 0.03. This value is less than the typical threshold of 0.05, suggesting that the difference in diagnosis time between the two groups is statistically significant.\n",
        "   - **Mean Difference**: Assume the ML Model group had a lower mean time to diagnosis compared to the Traditional group.\n",
        "   - **Degrees of Freedom**: Based on the sample size minus the number of groups being compared.\n",
        "\n",
        "**Clinical Trial Validation Relevance:**\n",
        "- **Efficacy of ML Model**: The significant result (p-value < 0.05) implies that the ML Model is effective in reducing the time to diagnosis compared to traditional methods. This is crucial in clinical settings where early diagnosis can significantly impact treatment outcomes.\n",
        "- **Clinical Decision-Making**: The findings support the integration of the ML Model into clinical practice for diagnosing Triple-Negative Breast Cancer, potentially leading to quicker patient management decisions.\n",
        "- **Advancement in Diagnostic Tools**: The results validate the utility of the ML Model as a more efficient diagnostic tool, showcasing the potential of AI and machine learning in enhancing clinical workflows.\n",
        "- **Future Research and Development**: These results can drive further research into refining the ML Model, exploring its applicability to other types of cancers or diseases, and integrating it into broader clinical use.\n",
        "\n"
      ],
      "metadata": {
        "id": "iEuO0ZZF9za0"
      }
    },
    {
      "cell_type": "markdown",
      "source": [
        "# Anova Test"
      ],
      "metadata": {
        "id": "_33IZJKX-RoH"
      }
    },
    {
      "cell_type": "code",
      "source": [
        "import pandas as pd\n",
        "import statsmodels.api as sm\n",
        "from statsmodels.formula.api import ols\n",
        "\n",
        "# Assuming 'trial_data' is  DataFrame loaded from the CSV file\n",
        "# ...\n",
        "\n",
        "# Conducting ANOVA\n",
        "anova_results = ols('Time_to_Diagnosis_days ~ C(Diagnostic_Method)', data=trial_data).fit()\n",
        "anova_table = sm.stats.anova_lm(anova_results, typ=2)\n",
        "\n",
        "# Print the ANOVA table\n",
        "print(anova_table)\n"
      ],
      "metadata": {
        "colab": {
          "base_uri": "https://localhost:8080/",
          "height": 0
        },
        "id": "bN7Y1rWR-AvE",
        "outputId": "840ee68c-0bc1-4b56-a7cc-9496b08189e8"
      },
      "execution_count": 37,
      "outputs": [
        {
          "output_type": "stream",
          "name": "stdout",
          "text": [
            "                           sum_sq     df         F    PR(>F)\n",
            "C(Diagnostic_Method)    66.201445    1.0  4.291261  0.039605\n",
            "Residual              3054.553555  198.0       NaN       NaN\n"
          ]
        }
      ]
    },
    {
      "cell_type": "markdown",
      "source": [
        "The ANOVA (Analysis of Variance) result provided indicate the following:\n",
        "\n",
        "1. **sum_sq (Sum of Squares)**:\n",
        "   - **C(Diagnostic_Method)**: 66.201445 - This is the sum of squares due to the diagnostic method, representing the variance explained by the difference between the two diagnostic methods (ML Model and Traditional).\n",
        "\n",
        "*   List item\n",
        "*   List item\n",
        "\n",
        "\n",
        "   - **Residual**: 3054.553555 - This is the residual sum of squares, representing the variance within each group that is not explained by the diagnostic method.\n",
        "\n",
        "2. **df (Degrees of Freedom)**:\n",
        "   - **C(Diagnostic_Method)**: 1.0 - Degrees of freedom for the diagnostic method (number of levels in the variable minus one).\n",
        "   - **Residual**: 198.0 - Degrees of freedom for the residuals (total number of observations minus the number of levels in the diagnostic method).\n",
        "\n",
        "3. **F (F-Statistic)**:\n",
        "   - 4.291261 - The F-statistic is calculated as the ratio of the mean sum of squares due to the diagnostic method to the mean sum of squares due to residuals. It's used to determine whether the variable (Diagnostic Method) has a statistically significant effect on the dependent variable (Time to Diagnosis).\n",
        "\n",
        "4. **PR(>F) (P-value)**:\n",
        "   - 0.039605 - This is the p-value associated with the F-statistic. It represents the probability of observing a value of the F-statistic as extreme as, or more extreme than, the observed value, under the null hypothesis that the diagnostic method has no effect on the time to diagnosis.\n",
        "\n",
        "**Interpretation**:\n",
        "- Since the p-value (0.039605) is less than 0.05, can conclude that there is a statistically significant difference in the time taken to diagnose Triple-Negative Breast Cancer when comparing the two diagnostic methods.\n",
        "- This implies that the choice of diagnostic method (ML Model vs. Traditional) significantly affects the time to diagnosis in patients with Triple-Negative Breast Cancer.\n",
        "- The results support the hypothesis that the implementation of different diagnostic methods can lead to varying times to reach a diagnosis, which is a critical factor in clinical settings."
      ],
      "metadata": {
        "id": "Bf_pv-Pe-7zN"
      }
    },
    {
      "cell_type": "code",
      "source": [
        "!pip install lifelines\n"
      ],
      "metadata": {
        "colab": {
          "base_uri": "https://localhost:8080/",
          "height": 0
        },
        "id": "b_G1RRJz_PgU",
        "outputId": "7ad338a9-15b6-4733-c5c6-8f09f4869eb4"
      },
      "execution_count": 25,
      "outputs": [
        {
          "output_type": "stream",
          "name": "stdout",
          "text": [
            "Collecting lifelines\n",
            "  Downloading lifelines-0.28.0-py3-none-any.whl (349 kB)\n",
            "\u001b[?25l     \u001b[90m━━━━━━━━━━━━━━━━━━━━━━━━━━━━━━━━━━━━━━━━\u001b[0m \u001b[32m0.0/349.2 kB\u001b[0m \u001b[31m?\u001b[0m eta \u001b[36m-:--:--\u001b[0m\r\u001b[2K     \u001b[91m━━━━━━━━━━━━\u001b[0m\u001b[91m╸\u001b[0m\u001b[90m━━━━━━━━━━━━━━━━━━━━━━━━━━━\u001b[0m \u001b[32m112.6/349.2 kB\u001b[0m \u001b[31m3.1 MB/s\u001b[0m eta \u001b[36m0:00:01\u001b[0m\r\u001b[2K     \u001b[90m━━━━━━━━━━━━━━━━━━━━━━━━━━━━━━━━━━━━━━━━\u001b[0m \u001b[32m349.2/349.2 kB\u001b[0m \u001b[31m4.9 MB/s\u001b[0m eta \u001b[36m0:00:00\u001b[0m\n",
            "\u001b[?25hRequirement already satisfied: numpy<2.0,>=1.14.0 in /usr/local/lib/python3.10/dist-packages (from lifelines) (1.23.5)\n",
            "Requirement already satisfied: scipy>=1.2.0 in /usr/local/lib/python3.10/dist-packages (from lifelines) (1.11.4)\n",
            "Requirement already satisfied: pandas>=1.2.0 in /usr/local/lib/python3.10/dist-packages (from lifelines) (1.5.3)\n",
            "Requirement already satisfied: matplotlib>=3.0 in /usr/local/lib/python3.10/dist-packages (from lifelines) (3.7.1)\n",
            "Requirement already satisfied: autograd>=1.5 in /usr/local/lib/python3.10/dist-packages (from lifelines) (1.6.2)\n",
            "Collecting autograd-gamma>=0.3 (from lifelines)\n",
            "  Downloading autograd-gamma-0.5.0.tar.gz (4.0 kB)\n",
            "  Preparing metadata (setup.py) ... \u001b[?25l\u001b[?25hdone\n",
            "Collecting formulaic>=0.2.2 (from lifelines)\n",
            "  Downloading formulaic-1.0.1-py3-none-any.whl (94 kB)\n",
            "\u001b[2K     \u001b[90m━━━━━━━━━━━━━━━━━━━━━━━━━━━━━━━━━━━━━━━━\u001b[0m \u001b[32m94.2/94.2 kB\u001b[0m \u001b[31m10.0 MB/s\u001b[0m eta \u001b[36m0:00:00\u001b[0m\n",
            "\u001b[?25hRequirement already satisfied: future>=0.15.2 in /usr/local/lib/python3.10/dist-packages (from autograd>=1.5->lifelines) (0.18.3)\n",
            "Collecting interface-meta>=1.2.0 (from formulaic>=0.2.2->lifelines)\n",
            "  Downloading interface_meta-1.3.0-py3-none-any.whl (14 kB)\n",
            "Requirement already satisfied: typing-extensions>=4.2.0 in /usr/local/lib/python3.10/dist-packages (from formulaic>=0.2.2->lifelines) (4.5.0)\n",
            "Requirement already satisfied: wrapt>=1.0 in /usr/local/lib/python3.10/dist-packages (from formulaic>=0.2.2->lifelines) (1.14.1)\n",
            "Requirement already satisfied: contourpy>=1.0.1 in /usr/local/lib/python3.10/dist-packages (from matplotlib>=3.0->lifelines) (1.2.0)\n",
            "Requirement already satisfied: cycler>=0.10 in /usr/local/lib/python3.10/dist-packages (from matplotlib>=3.0->lifelines) (0.12.1)\n",
            "Requirement already satisfied: fonttools>=4.22.0 in /usr/local/lib/python3.10/dist-packages (from matplotlib>=3.0->lifelines) (4.47.2)\n",
            "Requirement already satisfied: kiwisolver>=1.0.1 in /usr/local/lib/python3.10/dist-packages (from matplotlib>=3.0->lifelines) (1.4.5)\n",
            "Requirement already satisfied: packaging>=20.0 in /usr/local/lib/python3.10/dist-packages (from matplotlib>=3.0->lifelines) (23.2)\n",
            "Requirement already satisfied: pillow>=6.2.0 in /usr/local/lib/python3.10/dist-packages (from matplotlib>=3.0->lifelines) (9.4.0)\n",
            "Requirement already satisfied: pyparsing>=2.3.1 in /usr/local/lib/python3.10/dist-packages (from matplotlib>=3.0->lifelines) (3.1.1)\n",
            "Requirement already satisfied: python-dateutil>=2.7 in /usr/local/lib/python3.10/dist-packages (from matplotlib>=3.0->lifelines) (2.8.2)\n",
            "Requirement already satisfied: pytz>=2020.1 in /usr/local/lib/python3.10/dist-packages (from pandas>=1.2.0->lifelines) (2023.3.post1)\n",
            "Requirement already satisfied: six>=1.5 in /usr/local/lib/python3.10/dist-packages (from python-dateutil>=2.7->matplotlib>=3.0->lifelines) (1.16.0)\n",
            "Building wheels for collected packages: autograd-gamma\n",
            "  Building wheel for autograd-gamma (setup.py) ... \u001b[?25l\u001b[?25hdone\n",
            "  Created wheel for autograd-gamma: filename=autograd_gamma-0.5.0-py3-none-any.whl size=4031 sha256=cb7cc80da3fa7ffe375e6c694f6d934f80e4a221d89a362ebc85f27dc67ec243\n",
            "  Stored in directory: /root/.cache/pip/wheels/25/cc/e0/ef2969164144c899fedb22b338f6703e2b9cf46eeebf254991\n",
            "Successfully built autograd-gamma\n",
            "Installing collected packages: interface-meta, autograd-gamma, formulaic, lifelines\n",
            "Successfully installed autograd-gamma-0.5.0 formulaic-1.0.1 interface-meta-1.3.0 lifelines-0.28.0\n"
          ]
        }
      ]
    },
    {
      "cell_type": "code",
      "source": [
        "from lifelines import KaplanMeierFitter\n",
        "\n",
        "# Convert 'Diagnostic_Accuracy' to binary format\n",
        "trial_data['Diagnostic_Accuracy_Binary'] = trial_data['Diagnostic_Accuracy'].apply(lambda x: 1 if x == 'Accurate' else 0)\n",
        "\n",
        "# Initialize the KaplanMeierFitter\n",
        "kmf = KaplanMeierFitter()\n",
        "\n",
        "# Fit the Kaplan-Meier model using the binary column\n",
        "kmf.fit(trial_data['Time_to_Diagnosis_days'], event_observed=trial_data['Diagnostic_Accuracy_Binary'])\n"
      ],
      "metadata": {
        "colab": {
          "base_uri": "https://localhost:8080/",
          "height": 0
        },
        "id": "aggJGoZB-9da",
        "outputId": "548d0393-9636-4b6f-8c06-7be6ebdef048"
      },
      "execution_count": 40,
      "outputs": [
        {
          "output_type": "execute_result",
          "data": {
            "text/plain": [
              "<lifelines.KaplanMeierFitter:\"KM_estimate\", fitted with 200 total observations, 113 right-censored observations>"
            ]
          },
          "metadata": {},
          "execution_count": 40
        }
      ]
    },
    {
      "cell_type": "code",
      "source": [
        "import matplotlib.pyplot as plt\n",
        "\n",
        "kmf.plot_survival_function()\n",
        "plt.title('Survival Function: Time to Accurate Diagnosis')\n",
        "plt.xlabel('Time to Diagnosis (days)')\n",
        "plt.ylabel('Survival Probability')\n",
        "plt.show()\n"
      ],
      "metadata": {
        "colab": {
          "base_uri": "https://localhost:8080/",
          "height": 472
        },
        "id": "H84ljjrU_ERt",
        "outputId": "7cb2bfdb-d545-4ace-bd30-579a9bdce61c"
      },
      "execution_count": 41,
      "outputs": [
        {
          "output_type": "display_data",
          "data": {
            "text/plain": [
              "<Figure size 640x480 with 1 Axes>"
            ],
            "image/png": "[encoded data removed]"
          },
          "metadata": {}
        }
      ]
    },
    {
      "cell_type": "markdown",
      "source": [
        "Kaplan-Meier survival curve with the title \"Survival Function: Time to Accurate Diagnosis\". This graph is used in survival analysis to represent the probability that a patient will have been accurately diagnosed after a certain amount of time. Here's what the graph is indicating:\n",
        "\n",
        "- The horizontal axis (X-axis) represents the time in days to reach an accurate diagnosis.\n",
        "- The vertical axis (Y-axis) represents the survival probability, which, in this context, is the probability of not yet having reached an accurate diagnosis.\n",
        "\n",
        "The curve starts at 1 (or 100%) probability, meaning all patients initially have not been diagnosed. As time progresses, the survival probability decreases, indicating that more patients are being accurately diagnosed as time goes on.\n",
        "\n",
        "The steps in the curve represent points in time where the event (accurate diagnosis) occurs, causing a drop in the survival probability. The shaded area around the curve typically represents the confidence interval, giving a visual indication of the uncertainty around the estimate at any given time.\n",
        "\n",
        "Interpreting this curve in the clinical context, you can see the rate at which patients receive an accurate diagnosis over the 14-day period. For instance, by day 7, about 60% of patients remain undiagnosed (or 40% have been diagnosed). This type of analysis is valuable for understanding the effectiveness and timeliness of diagnostic procedures."
      ],
      "metadata": {
        "id": "8YQSBpheNc49"
      }
    },
    {
      "cell_type": "markdown",
      "source": [
        " the focus is on time-to-event data. In the context of our study on Triple-Negative Breast Cancer diagnosis using two different methods (Traditional and ML Model), here's why the Kaplan-Meier model has been used:\n",
        "\n",
        "1. **Time-to-Event Analysis**: The model is ideal for analyzing the time taken to reach a significant event. In our case, the event is achieving an 'Accurate' diagnosis. The Kaplan-Meier model helps in understanding how quickly patients are accurately diagnosed using different methods.\n",
        "\n",
        "2. **Censoring of Data**: One of the key features of Kaplan-Meier analysis is its ability to handle censored data. Censored data occur when the outcome of interest (e.g., accurate diagnosis) is not observed for all patients during the study period, either because the event didn't happen or the patient dropped out of the study. The model accommodates this by estimating survival probabilities without biasing the results due to incomplete data.\n",
        "\n",
        "3. **Comparative Analysis**: Our aim to compare the effectiveness of the ML Model and Traditional methods in terms of diagnostic timeliness, Kaplan-Meier analysis can visually and statistically show differences in the time to achieve an accurate diagnosis between these two groups.\n",
        "\n",
        "4. **Survival Probability Estimation**: It provides an estimate of the survival function, which in our study's context, is the probability of not yet having achieved an accurate diagnosis by a certain time. This is crucial for evaluating and improving diagnostic processes.\n",
        "\n",
        "5. **Clinical Decision Making**: The results from Kaplan-Meier analysis can inform clinical decision-making by highlighting the effectiveness of diagnostic methods over time, which can be critical in treatment planning and patient management.\n",
        "\n",
        "6. **Research and Development**: In the broader context of medical research, such survival analysis can guide further development and refinement of diagnostic tools and methods.\n",
        "\n"
      ],
      "metadata": {
        "id": "Dm10lWs4ERxb"
      }
    },
    {
      "cell_type": "markdown",
      "source": [
        "# Cox Proportional Hazards Model:\n",
        "\n",
        "\n",
        "The Cox Proportional Hazards Model is particularly valuable for clinical validation studies due to several key features that make it well-suited for analyzing time-to-event data in medical research:\n",
        "\n",
        "1. **Multiple Covariates Analysis**: The Cox model allows for the assessment of the impact of multiple variables (covariates) simultaneously on the time until a particular event occurs. This is crucial in clinical settings where factors such as age, gender, treatment method, and other clinical variables might all influence patient outcomes.\n",
        "\n",
        "2. **Proportional Hazards Assumption**: This core assumption of the Cox model states that the hazard ratios (the relative risk of the event occurring at a given time) are constant over time across different groups. This feature is particularly useful in clinical trials to understand how different treatments or diagnostic methods affect patient outcomes over the entire study period.\n",
        "\n",
        "3. **Handling Censored Data**: Clinical trials often encounter censored data, where the outcome of interest (like recurrence of a disease, response to treatment, etc.) is not observed for all subjects within the study period. The Cox model can appropriately handle these censored observations without biasing the results.\n",
        "\n",
        "4. **Relative Risk Estimation**: The model provides hazard ratios, which offer a measure of the relative risk associated with each covariate. This is highly informative in understanding the strength and direction of the effect of different variables on patient outcomes.\n",
        "\n",
        "5. **Flexibility and Adaptability**: The Cox model can be adapted to various types of clinical data and can handle a wide range of variable types, including continuous, binary, and categorical variables.\n",
        "\n",
        "6. **Clinical Decision-Making**: The insights gained from a Cox Proportional Hazards Model analysis can directly inform clinical decision-making. For example, understanding which factors significantly increase the risk of adverse events can guide treatment choices and patient management strategies.\n",
        "\n"
      ],
      "metadata": {
        "id": "6r9G2KtbF18L"
      }
    },
    {
      "cell_type": "code",
      "source": [
        "import pandas as pd\n",
        "\n",
        "# Assuming 'trial_data' is DataFrame and it's already loaded\n",
        "# ...\n",
        "\n",
        "# Print the column names\n",
        "print(trial_data.columns)\n"
      ],
      "metadata": {
        "colab": {
          "base_uri": "https://localhost:8080/",
          "height": 0
        },
        "id": "j_m4XzfQIze_",
        "outputId": "cf2600d7-4a6c-4396-ffc7-88f1486d99df"
      },
      "execution_count": 47,
      "outputs": [
        {
          "output_type": "stream",
          "name": "stdout",
          "text": [
            "Index(['Patient_ID', 'Age', 'Gender', 'Residence', 'Diagnostic_Method',\n",
            "       'Time_to_Diagnosis_days', 'Diagnostic_Accuracy', 'Patient_Satisfaction',\n",
            "       'Diagnostic_Accuracy_Binary'],\n",
            "      dtype='object')\n"
          ]
        }
      ]
    },
    {
      "cell_type": "code",
      "source": [
        "import pandas as pd\n",
        "from lifelines import CoxPHFitter\n",
        "\n",
        "# Assuming 'trial_data' is already loaded\n",
        "\n",
        "# Convert 'Diagnostic_Accuracy' to binary format\n",
        "trial_data['Diagnostic_Accuracy_Binary'] = trial_data['Diagnostic_Accuracy'].apply(lambda x: 1 if x == 'Accurate' else 0)\n",
        "\n",
        "# One-hot encode the 'Diagnostic_Method' column\n",
        "trial_data_encoded = pd.get_dummies(trial_data, columns=['Diagnostic_Method'], drop_first=True)\n",
        "\n",
        "# Initialize the CoxPHFitter\n",
        "cph = CoxPHFitter()\n",
        "\n",
        "# Fit the Cox model using the encoded data\n",
        "# Use 'Diagnostic_Method_Traditional' as it is the correct column name from one-hot encoding\n",
        "cph.fit(trial_data_encoded[['Time_to_Diagnosis_days', 'Diagnostic_Accuracy_Binary', 'Diagnostic_Method_Traditional']],\n",
        "        duration_col='Time_to_Diagnosis_days', event_col='Diagnostic_Accuracy_Binary')\n",
        "\n",
        "# Print the summary of the Cox model\n",
        "print(cph.summary)\n"
      ],
      "metadata": {
        "colab": {
          "base_uri": "https://localhost:8080/",
          "height": 0
        },
        "id": "SkYVp0mGIOIC",
        "outputId": "4534e4f4-2830-48c5-abef-9cbf24c724c1"
      },
      "execution_count": 51,
      "outputs": [
        {
          "output_type": "stream",
          "name": "stdout",
          "text": [
            "                                   coef  exp(coef)  se(coef)  coef lower 95%  \\\n",
            "covariate                                                                      \n",
            "Diagnostic_Method_Traditional -0.413455   0.661361  0.216131       -0.837064   \n",
            "\n",
            "                               coef upper 95%  exp(coef) lower 95%  \\\n",
            "covariate                                                            \n",
            "Diagnostic_Method_Traditional        0.010153              0.43298   \n",
            "\n",
            "                               exp(coef) upper 95%  cmp to         z  \\\n",
            "covariate                                                              \n",
            "Diagnostic_Method_Traditional             1.010204     0.0 -1.912989   \n",
            "\n",
            "                                      p  -log2(p)  \n",
            "covariate                                          \n",
            "Diagnostic_Method_Traditional  0.055749  4.164899  \n"
          ]
        }
      ]
    },
    {
      "cell_type": "markdown",
      "source": [
        "The output from the Cox Proportional Hazards Model provides a statistical analysis of the impact of the diagnostic method (Traditional vs. ML Model) on the time to accurate diagnosis. Here's a breakdown of the results and their relevance for clinical validation:\n",
        "\n",
        "1. **coef (Coefficient)**:\n",
        "   - **Value**: -0.413455 - This coefficient represents the log hazard ratio for the 'Traditional' diagnostic method compared to the baseline (ML Model, in this case).\n",
        "   - **Interpretation**: A negative coefficient suggests that the 'Traditional' method is associated with a decreased hazard (or risk) of achieving an accurate diagnosis compared to the ML Model.\n",
        "\n",
        "2. **exp(coef) (Exponential of the Coefficient)**:\n",
        "   - **Value**: 0.661361 - This is the hazard ratio itself.\n",
        "   - **Interpretation**: Values less than 1 indicate a lower hazard of achieving an accurate diagnosis with the 'Traditional' method compared to the ML Model. Specifically, the hazard is about 66% of that with the ML Model.\n",
        "\n",
        "3. **se(coef) (Standard Error of the Coefficient)**:\n",
        "   - Indicates the standard error of the estimated coefficient, reflecting the variability of the estimate.\n",
        "\n",
        "4. **coef lower 95% and coef upper 95% (95% Confidence Interval for Coefficient)**:\n",
        "   - These values provide the confidence interval for the coefficient estimate.\n",
        "   - The fact that this interval spans both negative and positive values (from -0.837064 to 0.010153) suggests some uncertainty about the impact of the diagnostic method.\n",
        "\n",
        "5. **z (z-score)**:\n",
        "   - A measure of the statistical significance of the coefficient.\n",
        "\n",
        "6. **p (p-value)**:\n",
        "   - **Value**: 0.055749 - This is the p-value associated with the z-score.\n",
        "   - **Interpretation**: A p-value greater than 0.05 (as in this case) suggests that the result is not statistically significant at the conventional 5% level. This means there is not enough evidence to conclude that the 'Traditional' method significantly differs from the ML Model in terms of time to accurate diagnosis.\n",
        "\n",
        "7. **-log2(p) (Log2 Transformation of p-value)**:\n",
        "   - Provides another way to assess the significance of the result.\n",
        "\n",
        "**Relevance to Clinical Validation**:\n",
        "- These results indicate that, while there is a trend towards the ML Model being more effective (or faster) in achieving an accurate diagnosis compared to the Traditional method, the difference is not statistically significant at the 5% level.\n",
        "- For clinical validation, this analysis suggests that the choice of diagnostic method (Traditional vs. ML Model) may not have a significant impact on the time taken to reach an accurate diagnosis.\n",
        "- However, the trend observed (hazard ratio less than 1 for the Traditional method) might still be of clinical interest, especially if supported by other evidence or considered in conjunction with other factors such as diagnostic accuracy, patient satisfaction, and healthcare resource utilization."
      ],
      "metadata": {
        "id": "9pySXZ9iKk-e"
      }
    },
    {
      "cell_type": "code",
      "source": [
        "import pandas as pd\n",
        "from sklearn.linear_model import LogisticRegression\n",
        "from sklearn.metrics import roc_curve, auc\n",
        "\n",
        "# Assuming 'trial_data' is DataFrame and it's already loaded\n",
        "# ...\n",
        "\n",
        "# Prepare the data for logistic regression\n",
        "# For example, let's say want to predict 'Diagnostic_Accuracy' using 'Age' and 'Time_to_Diagnosis_days'\n",
        "X = trial_data[['Age', 'Time_to_Diagnosis_days']]  # Replace with chosen predictors\n",
        "y = trial_data['Diagnostic_Accuracy'].apply(lambda x: 1 if x == 'Accurate' else 0)\n",
        "\n",
        "# Fit the logistic regression model\n",
        "logit_model = LogisticRegression()\n",
        "logit_results = logit_model.fit(X, y)\n",
        "\n",
        "# Predict probabilities\n",
        "y_scores = logit_results.predict_proba(X)[:, 1]\n",
        "\n",
        "# Calculate ROC curve and AUC\n",
        "fpr, tpr, thresholds = roc_curve(y, y_scores)\n",
        "roc_auc = auc(fpr, tpr)\n",
        "\n",
        "# Print the AUC\n",
        "print(\"AUC:\", roc_auc)\n"
      ],
      "metadata": {
        "colab": {
          "base_uri": "https://localhost:8080/",
          "height": 0
        },
        "id": "GPbzcUCNIwPX",
        "outputId": "11d0d08c-31de-4866-ba9f-4f588a95a9a5"
      },
      "execution_count": 53,
      "outputs": [
        {
          "output_type": "stream",
          "name": "stdout",
          "text": [
            "AUC: 0.580561489166921\n"
          ]
        }
      ]
    },
    {
      "cell_type": "markdown",
      "source": [
        "The AUC (Area Under the Curve) of 0.580561489166921 obtained from the ROC (Receiver Operating Characteristic) curve is a measure used in binary classification to evaluate the performance of predictive model, in this case, the logistic regression model predicting 'Diagnostic_Accuracy'. Here's what this means and how it's relevant to clinical validation:\n",
        "\n",
        "1. **Meaning of AUC Value**:\n",
        "   - The AUC ranges from 0 to 1. An AUC of 1 represents a perfect model that perfectly distinguishes between the two classes ('Accurate' and 'Inaccurate' diagnoses in case). An AUC of 0.5 suggests a model with no discriminative ability, equivalent to random guessing.\n",
        "   - An AUC of 0.580561489166921 indicates that model has a modest ability to distinguish between accurate and inaccurate diagnoses. It performs better than random guessing but is not highly accurate.\n",
        "\n",
        "2. **Relevance to Clinical Validation**:\n",
        "   - **Model Performance**: In the context of clinical validation, an AUC of approximately 0.58 suggests that the logistic regression model provides some predictive power, but it's not strong. It might correctly identify a proportion of accurate diagnoses, but there's considerable room for improvement.\n",
        "   - **Decision-Making**: For clinical decision-making, a model with this level of AUC might not be reliable enough to be used as the sole basis for diagnostic decisions. It might be more useful as a supplementary tool, combined with other diagnostic methods and clinical judgment.\n",
        "   - **Further Development**: The results indicate a need for further refinement of the model. This could involve using more predictive features, trying different modeling techniques, or gathering more data. The aim would be to increase the AUC, thereby improving the model's ability to correctly classify diagnoses.\n",
        "   - **Risk Assessment**: In some clinical scenarios, even a modestly performing model can be useful for initial risk assessment or screening, provided its limitations are clearly understood and it's used in conjunction with other clinical assessments.\n",
        "\n"
      ],
      "metadata": {
        "id": "iqWFJFtlLuFU"
      }
    },
    {
      "cell_type": "code",
      "source": [],
      "metadata": {
        "id": "98g0U2v-L1se"
      },
      "execution_count": null,
      "outputs": []
    }
  ]
}